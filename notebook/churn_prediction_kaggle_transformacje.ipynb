{
  "cells": [
    {
      "cell_type": "code",
      "execution_count": 1,
      "metadata": {
        "colab": {
          "base_uri": "https://localhost:8080/"
        },
        "id": "wwfIMZlRb-WM",
        "outputId": "46c83df1-f51f-41f7-c271-a4e2e59ebddc"
      },
      "outputs": [
        {
          "output_type": "stream",
          "name": "stdout",
          "text": [
            "Mounted at /content/drive\n"
          ]
        }
      ],
      "source": [
        "from google.colab import drive\n",
        "drive.mount('/content/drive')\n",
        "main_dir = 'drive/MyDrive/GSN/churn_text_prediction'"
      ]
    },
    {
      "cell_type": "code",
      "execution_count": 2,
      "metadata": {
        "id": "oG8pfBjugGcZ"
      },
      "outputs": [],
      "source": [
        "import os\n",
        "os.chdir(main_dir)"
      ]
    },
    {
      "cell_type": "code",
      "execution_count": null,
      "metadata": {
        "colab": {
          "base_uri": "https://localhost:8080/"
        },
        "id": "rfevam-UGX4H",
        "outputId": "66d02b59-67af-437d-91f6-171d2d07dcf0"
      },
      "outputs": [
        {
          "name": "stdout",
          "output_type": "stream",
          "text": [
            "Successfully installed huggingface-hub-0.12.0 sentence_transformers-2.2.2 sentencepiece-0.1.97 tokenizers-0.13.2 transformers-4.26.1\n"
          ]
        }
      ],
      "source": [
        "!pip install transformers sentence_transformers tokenizers"
      ]
    },
    {
      "cell_type": "code",
      "execution_count": 3,
      "metadata": {
        "id": "zFjwwCcYmS8l",
        "colab": {
          "base_uri": "https://localhost:8080/",
          "height": 315
        },
        "outputId": "ac8185a1-cbe3-43bf-bff2-43a234123a5d"
      },
      "outputs": [
        {
          "output_type": "error",
          "ename": "ModuleNotFoundError",
          "evalue": "ignored",
          "traceback": [
            "\u001b[0;31m---------------------------------------------------------------------------\u001b[0m",
            "\u001b[0;31mModuleNotFoundError\u001b[0m                       Traceback (most recent call last)",
            "\u001b[0;32m<ipython-input-3-dbcd88385343>\u001b[0m in \u001b[0;36m<module>\u001b[0;34m\u001b[0m\n\u001b[0;32m----> 1\u001b[0;31m \u001b[0;32mfrom\u001b[0m \u001b[0msentence_transformers\u001b[0m \u001b[0;32mimport\u001b[0m \u001b[0mSentenceTransformer\u001b[0m\u001b[0;34m\u001b[0m\u001b[0;34m\u001b[0m\u001b[0m\n\u001b[0m",
            "\u001b[0;31mModuleNotFoundError\u001b[0m: No module named 'sentence_transformers'",
            "",
            "\u001b[0;31m---------------------------------------------------------------------------\u001b[0;32m\nNOTE: If your import is failing due to a missing package, you can\nmanually install dependencies using either !pip or !apt.\n\nTo view examples of installing some common dependencies, click the\n\"Open Examples\" button below.\n\u001b[0;31m---------------------------------------------------------------------------\u001b[0m\n"
          ],
          "errorDetails": {
            "actions": [
              {
                "action": "open_url",
                "actionText": "Open Examples",
                "url": "/notebooks/snippets/importing_libraries.ipynb"
              }
            ]
          }
        }
      ],
      "source": [
        "from sentence_transformers import SentenceTransformer"
      ]
    },
    {
      "cell_type": "code",
      "execution_count": 3,
      "metadata": {
        "id": "7xThPwXBPp07"
      },
      "outputs": [],
      "source": [
        "import yaml\n",
        "import pandas as pd\n",
        "from pathlib import Path\n",
        "import numpy as np"
      ]
    },
    {
      "cell_type": "code",
      "execution_count": 4,
      "metadata": {
        "id": "KWOL-UeuhlVy"
      },
      "outputs": [],
      "source": [
        "os.chdir('scripts')"
      ]
    },
    {
      "cell_type": "code",
      "execution_count": 5,
      "metadata": {
        "id": "GZa6sYkQYfJ3"
      },
      "outputs": [],
      "source": [
        "with open(\"../model/google/params.yaml\", \"r\") as params_file:\n",
        "    params_google = yaml.safe_load(params_file)\n",
        "with open(\"../model/deepl/params.yaml\", \"r\") as params_file:\n",
        "    params_deepl = yaml.safe_load(params_file)"
      ]
    },
    {
      "cell_type": "code",
      "execution_count": 6,
      "metadata": {
        "id": "mtVjtkXHF047"
      },
      "outputs": [],
      "source": [
        "import pickle"
      ]
    },
    {
      "cell_type": "markdown",
      "metadata": {
        "id": "TueBDHtIunWD"
      },
      "source": [
        "Wczytanie danych przetłumaczonych"
      ]
    },
    {
      "cell_type": "code",
      "execution_count": null,
      "metadata": {
        "id": "03a4if9nYfKY"
      },
      "outputs": [],
      "source": [
        "df_text_google = pd.read_csv(Path(params_google['data_dir'], 'df_text_google.csv'))\n",
        "df_text_deepl = pd.read_csv(Path(params_deepl['data_dir'], 'df_text_deepl.csv'))"
      ]
    },
    {
      "cell_type": "markdown",
      "metadata": {
        "id": "tMsbu2NgJiKG"
      },
      "source": [
        "Stwórz datasety"
      ]
    },
    {
      "cell_type": "code",
      "execution_count": null,
      "metadata": {
        "id": "bReh2idv4DxY"
      },
      "outputs": [],
      "source": [
        "def create_joint_dataset(\n",
        "    df_categorical, \n",
        "    df_text\n",
        "):\n",
        "    df_text_no = df_text[df_text.churn == 'no'].reset_index(drop=True)\n",
        "    df_text_yes = df_text[df_text.churn == 'yes'].reset_index(drop=True)\n",
        "\n",
        "    df_cat_no = df_categorical[df_categorical.churn == 'no'].reset_index(drop=True)[:len(df_text_no)]\n",
        "    df_cat_yes = df_categorical[df_categorical.churn == 'yes'].reset_index(drop=True)[:len(df_text_yes)]\n",
        "\n",
        "    df_no = pd.concat([df_text_no, df_cat_no.iloc[:,:-1]], axis=1)\n",
        "    df_yes = pd.concat([df_text_yes, df_cat_yes.iloc[:,:-1]], axis=1)\n",
        "\n",
        "    df = pd.concat([df_no, df_yes], axis=0)\n",
        "\n",
        "    # shuffle data\n",
        "    df = df.sample(frac=1).reset_index(drop=True)\n",
        "\n",
        "    return df"
      ]
    },
    {
      "cell_type": "code",
      "execution_count": null,
      "metadata": {
        "id": "ZOO4eYkAYfKd"
      },
      "outputs": [],
      "source": [
        "# load data\n",
        "df_categorical = pd.read_csv(Path('../data', \"train.csv\"))"
      ]
    },
    {
      "cell_type": "code",
      "execution_count": null,
      "metadata": {
        "id": "XXhM8Au7JgrD"
      },
      "outputs": [],
      "source": [
        "# create joint dataset\n",
        "df_google = create_joint_dataset(df_categorical, df_text_google)\n",
        "df_deepl = create_joint_dataset(df_categorical, df_text_deepl)"
      ]
    },
    {
      "cell_type": "code",
      "execution_count": 7,
      "metadata": {
        "id": "zjKRrPhQYfKo"
      },
      "outputs": [],
      "source": [
        "from sklearn.model_selection import train_test_split\n",
        "import json"
      ]
    },
    {
      "cell_type": "code",
      "execution_count": 8,
      "metadata": {
        "id": "MNKiXqwOYfKo"
      },
      "outputs": [],
      "source": [
        "from sklearn.impute import SimpleImputer\n",
        "from sklearn.preprocessing import OneHotEncoder\n",
        "from sklearn.base import BaseEstimator, TransformerMixin"
      ]
    },
    {
      "cell_type": "code",
      "execution_count": 9,
      "metadata": {
        "id": "EwOvupgxYfKp"
      },
      "outputs": [],
      "source": [
        "import joblib"
      ]
    },
    {
      "cell_type": "code",
      "execution_count": 12,
      "metadata": {
        "id": "xeAjaaH-Cml9"
      },
      "outputs": [],
      "source": [
        "from transformers import AutoTokenizer, AutoModel\n",
        "# from transformers import *\n",
        "import torch\n",
        "from tqdm.notebook import tqdm"
      ]
    },
    {
      "cell_type": "code",
      "execution_count": 10,
      "metadata": {
        "id": "jXIrcy9vYfKv"
      },
      "outputs": [],
      "source": [
        "def extract_labels(\n",
        "    data,\n",
        "    label_name\n",
        "):\n",
        "    labels = []\n",
        "    for sample in data:\n",
        "        value = sample[label_name]\n",
        "        labels.append(value)\n",
        "    labels = np.array(labels).astype('int')\n",
        "\n",
        "    return labels.reshape(labels.shape[0],-1)\n",
        "\n",
        "\n",
        "def convert_label(\n",
        "    df\n",
        "):\n",
        "    df.churn = df.churn.replace(\"no\", 0)\n",
        "    df.churn = df.churn.replace(\"yes\", 1)\n",
        "    return df\n",
        "\n",
        "def split_data(\n",
        "    df,\n",
        "    label_name,\n",
        "    test_size\n",
        "):\n",
        "    \"\"\"Splits data and creates json format.\n",
        "    \"\"\"\n",
        "    \n",
        "    X_train, X_test, y_train, y_test = train_test_split(\n",
        "        df.drop(columns=[label_name], axis=1), \n",
        "        df[label_name], \n",
        "        test_size=test_size, \n",
        "        random_state=123, \n",
        "        stratify=df[label_name])\n",
        "    X_train[label_name] = y_train\n",
        "    X_test[label_name] = y_test\n",
        "        \n",
        "    return X_train, X_test\n",
        "\n",
        "def save_feature_names(\n",
        "    numerical_feature_names,\n",
        "    categorical_feature_names,\n",
        "    textual_feature_names,\n",
        "    filepath\n",
        "):\n",
        "    feature_names = {\n",
        "        'numerical': numerical_feature_names,\n",
        "        'categorical': categorical_feature_names,\n",
        "        'textual': textual_feature_names\n",
        "    }\n",
        "    with open(filepath, 'w') as f:\n",
        "        json.dump(feature_names, f)\n",
        "\n",
        "\n",
        "def load_feature_names(filepath):\n",
        "    with open(filepath, 'r') as f:\n",
        "        feature_names = json.load(f)\n",
        "    numerical_feature_names = feature_names['numerical']\n",
        "    categorical_feature_names = feature_names['categorical']\n",
        "    textual_feature_names = feature_names['textual']\n",
        "    return numerical_feature_names, categorical_feature_names, textual_feature_names\n",
        "\n",
        "\n",
        "def get_feature_names(\n",
        "    df\n",
        "):\n",
        "    num_columns = df.select_dtypes(include=np.number).columns.tolist()\n",
        "    numerical_feature_names = [i for i in num_columns if i not in ['churn']]\n",
        "\n",
        "    cat_columns = df.select_dtypes(include='object').columns.tolist()\n",
        "    categorical_feature_names = [i for i in cat_columns if i not in ['chat_log']]\n",
        "\n",
        "    textual_feature_names = ['chat_log']\n",
        "    label_name = 'churn'\n",
        "\n",
        "    return numerical_feature_names, categorical_feature_names, textual_feature_names, label_name\n",
        "    "
      ]
    },
    {
      "cell_type": "code",
      "execution_count": 14,
      "metadata": {
        "id": "IF00rE2cFuWE"
      },
      "outputs": [],
      "source": [
        "class PolishBertEncoder(BaseEstimator, TransformerMixin):\n",
        "    def __init__(self, model_name='dkleczek/bert-base-polish-cased-v1'):\n",
        "        self.model = AutoModel.from_pretrained(model_name)\n",
        "        self.tokenizer = AutoTokenizer.from_pretrained(model_name)\n",
        "\n",
        "    #Mean Pooling - Take attention mask into account for correct averaging\n",
        "    def mean_pooling(self, token_embeddings, attention_mask): \n",
        "        input_mask_expanded = attention_mask.unsqueeze(0).unsqueeze(-1).expand(token_embeddings.size()).float()\n",
        "        return torch.sum(token_embeddings * input_mask_expanded, 1) / torch.clamp(input_mask_expanded.sum(1), min=1e-9)\n",
        "   \n",
        "    def fit(self, X, y=None):\n",
        "        return self\n",
        "\n",
        "    def transform(self, X):\n",
        "        encoded_input = self.tokenizer(X, padding=True, truncation=True, return_tensors='pt')['attention_mask']\n",
        "\n",
        "        sentence_emb = []\n",
        "        for sentence in tqdm(encoded_input):\n",
        "          # Compute token embeddings\n",
        "          with torch.no_grad():\n",
        "            model_output = self.model(sentence.unsqueeze(0))[0] #First element of model_output contains all token embeddings\n",
        "          \n",
        "          sentence_embeddings= self.mean_pooling(model_output, sentence)# Perform pooling. In this case, mean pooling.\n",
        "          sentence_emb.append(sentence_embeddings)\n",
        "        return sentence_emb"
      ]
    },
    {
      "cell_type": "code",
      "execution_count": 11,
      "metadata": {
        "id": "aitD38iqYfK3"
      },
      "outputs": [],
      "source": [
        "def main_transformation(df, model_dir, use_existing=False, test_size=0.33):\n",
        "  \"\"\"\n",
        "    Args:\n",
        "        df: Pandas dataframe with raw data\n",
        "        use_existing: Set to True if you want to use locally stored, \n",
        "        already prepared train/test data. Set to False if you want \n",
        "        to rerun the data preparation pipeline.\n",
        "    Returns:\n",
        "        Train and test data as well as train labels and test labels.\n",
        "  \"\"\"\n",
        "  train_file = Path(model_dir, 'train.csv')\n",
        "  labels_file = Path(model_dir, 'labels.csv')\n",
        "  test_file = Path(model_dir, 'test.csv')\n",
        "  labels_test_file = Path(model_dir, 'labels_test.csv')\n",
        "  feature_names_file = Path(model_dir, \"feature_names.json\")\n",
        "  oh_feature_names_file = Path(model_dir, \"one_hot_feature_names.json\")\n",
        "  all_file_paths = [train_file, labels_file, test_file, labels_test_file,\n",
        "                    feature_names_file, oh_feature_names_file]\n",
        "  \n",
        "  if use_existing == True and sum([file.exists() for file in all_file_paths])==6:\n",
        "      features = np.array(pd.read_csv(train_file))\n",
        "      labels = np.array(pd.read_csv(labels_file))\n",
        "      features_test = np.array(pd.read_csv(test_file))\n",
        "      labels_test = np.array(pd.read_csv(labels_test_file))\n",
        "      print(\"Using already prepared data.\")\n",
        "\n",
        "  else:\n",
        "      print(\"Running data preparation pipeline...\")\n",
        "      # convert label to binary numeric\n",
        "      df = convert_label(df)\n",
        "\n",
        "      #get features categorial names\n",
        "      numerical_feature_names, categorical_feature_names, textual_feature_names, label_name = get_feature_names(df)\n",
        "\n",
        "      #split data\n",
        "      X_train, X_test = split_data(df, label_name, test_size)\n",
        "\n",
        "      # extract features & label\n",
        "      print('extracting features')\n",
        "      numerical_features = X_train[numerical_feature_names].values\n",
        "      categorical_features = X_train[categorical_feature_names].values\n",
        "      textual_features = X_train[textual_feature_names].values\n",
        "      textual_features = [str(chat[0]) for chat in textual_features.tolist()]\n",
        "\n",
        "      labels = X_train[label_name].values\n",
        "      \n",
        "      # define preprocessors\n",
        "      print('defining preprocessors')\n",
        "      numerical_transformer = SimpleImputer(missing_values=np.nan, strategy='mean', add_indicator=True)\n",
        "      categorical_transformer = OneHotEncoder(handle_unknown=\"ignore\")\n",
        "      textual_transformer = PolishBertEncoder()\n",
        "\n",
        "      # fit preprocessors\n",
        "      print('fitting numerical_transformer')\n",
        "      numerical_transformer.fit(numerical_features)\n",
        "      print('saving numerical_transformer')\n",
        "      joblib.dump(numerical_transformer, Path(model_dir, \"numerical_transformer.joblib\"))\n",
        "      print('fitting categorical_transformer')\n",
        "      categorical_transformer.fit(categorical_features)\n",
        "      print('saving categorical_transformer')\n",
        "      joblib.dump(categorical_transformer, Path(model_dir, \"categorical_transformer.joblib\"))\n",
        "\n",
        "      # transform features\n",
        "      print('transforming numerical_features')\n",
        "      numerical_features = numerical_transformer.transform(numerical_features)\n",
        "      print('transforming categorical_features')\n",
        "      categorical_features = categorical_transformer.transform(categorical_features)\n",
        "      print('transforming textual_features')\n",
        "      textual_features = textual_transformer.transform(textual_features)\n",
        "\n",
        "      numerical_features_test = X_test[numerical_feature_names].values\n",
        "      categorical_features_test = X_test[categorical_feature_names].values\n",
        "      textual_features_test = X_test[textual_feature_names].values\n",
        "      textual_features_test = [str(chat[0]) for chat in textual_features_test.tolist()]\n",
        "      \n",
        "      labels_test = X_test[label_name].values\n",
        "      \n",
        "      # transform features (for test data)\n",
        "      print('transforming numerical_features_test')\n",
        "      numerical_features_test = numerical_transformer.transform(numerical_features_test)\n",
        "      print('transforming categorical_features_test')\n",
        "      categorical_features_test = categorical_transformer.transform(categorical_features_test)\n",
        "      print('transforming textual_features_test')\n",
        "      textual_features_test = textual_transformer.transform(textual_features_test)\n",
        "\n",
        "      # concat features\n",
        "      print('concatenating features')\n",
        "      categorical_features = categorical_features.toarray()\n",
        "      textual_features = np.array([t[0].squeeze(0).numpy() for t in textual_features])\n",
        "      features = np.concatenate([\n",
        "          numerical_features,\n",
        "          categorical_features,\n",
        "          textual_features\n",
        "      ], axis=1)\n",
        "\n",
        "      # concat features (test data)\n",
        "      print('concatenating features of test data')\n",
        "      categorical_features_test = categorical_features_test.toarray()\n",
        "      textual_features_test = np.array([t[0].squeeze(0).numpy() for t in textual_features_test])\n",
        "      features_test = np.concatenate([\n",
        "          numerical_features_test,\n",
        "          categorical_features_test,\n",
        "          textual_features_test\n",
        "      ], axis=1)\n",
        "\n",
        "      # save to disk\n",
        "      pd.DataFrame(features).to_csv(Path(model_dir, \"train.csv\"), index=False)\n",
        "      pd.DataFrame(labels).to_csv(Path(model_dir, \"labels.csv\"), index=False)\n",
        "      pd.DataFrame(features_test).to_csv(Path(model_dir, \"test.csv\"), index=False)\n",
        "      pd.DataFrame(labels_test).to_csv(Path(model_dir, \"labels_test.csv\"), index=False)\n",
        "\n",
        "      save_feature_names(\n",
        "          numerical_feature_names,\n",
        "          categorical_feature_names,\n",
        "          textual_feature_names,\n",
        "          Path(model_dir, \"feature_names.json\")\n",
        "      )\n",
        "      # one-hot encoded feature names (for feat_imp)\n",
        "      save_feature_names(\n",
        "          numerical_feature_names,\n",
        "          categorical_transformer.get_feature_names().tolist(),\n",
        "          textual_feature_names,\n",
        "          Path(model_dir, \"one_hot_feature_names.json\")\n",
        "      )\n",
        "\n",
        "  return features, features_test, labels, labels_test"
      ]
    },
    {
      "cell_type": "code",
      "execution_count": 13,
      "metadata": {
        "id": "g3zCBAfnrHVb"
      },
      "outputs": [],
      "source": [
        "import train"
      ]
    },
    {
      "cell_type": "code",
      "source": [
        "def plot_train_stats(\n",
        "        params\n",
        "):\n",
        "    model_dir = params['model_dir']\n",
        "    scores_df = pd.read_csv(Path(model_dir, 'training_scores.csv'))\n",
        "    scores_df.plot(xlabel='Epochs', ylabel='AUC Score', title='AUC Score')\n",
        "    return None"
      ],
      "metadata": {
        "id": "4kypbdZb6rI7"
      },
      "execution_count": 19,
      "outputs": []
    },
    {
      "cell_type": "markdown",
      "metadata": {
        "id": "SKj1yEmXs8Qp"
      },
      "source": [
        "\n",
        "# Googlowe tłumaczenie"
      ]
    },
    {
      "cell_type": "code",
      "execution_count": 12,
      "metadata": {
        "colab": {
          "base_uri": "https://localhost:8080/"
        },
        "id": "d0zz8Zs256Y2",
        "outputId": "1ce277a8-c1de-46ff-d409-b998fe39ace0"
      },
      "outputs": [
        {
          "output_type": "stream",
          "name": "stdout",
          "text": [
            "Using already prepared data.\n"
          ]
        },
        {
          "output_type": "execute_result",
          "data": {
            "text/plain": [
              "((2233, 841), (1100, 841), (2233, 1), (1100, 1))"
            ]
          },
          "metadata": {},
          "execution_count": 12
        }
      ],
      "source": [
        "data_dir = params_google['data_dir']\n",
        "model_dir = params_google['model_dir']\n",
        "df_google = pd.read_csv(Path(data_dir, \"churn_dataset_google.csv\"))\n",
        "X_train, X_test, y_train, y_test = main_transformation(df_google, params_google['model_dir'], use_existing=True, test_size=0.33)\n",
        "X_train.shape, X_test.shape, y_train.shape, y_test.shape"
      ]
    },
    {
      "cell_type": "code",
      "execution_count": 14,
      "metadata": {
        "colab": {
          "base_uri": "https://localhost:8080/"
        },
        "id": "T_SwbTq156WM",
        "outputId": "7f821107-ec79-4adb-be83-b22ed59129fd"
      },
      "outputs": [
        {
          "output_type": "stream",
          "name": "stdout",
          "text": [
            "starting epoch:  1\n",
            "Train Epoch: 1, train-auc-score: 0.7339\n"
          ]
        },
        {
          "output_type": "stream",
          "name": "stderr",
          "text": [
            "INFO:train:Train Epoch: 1, train-auc-score: 0.7339\n"
          ]
        },
        {
          "output_type": "stream",
          "name": "stdout",
          "text": [
            "test_auc_score: 0.7900\n"
          ]
        },
        {
          "output_type": "stream",
          "name": "stderr",
          "text": [
            "INFO:train:test_auc_score: 0.7900\n"
          ]
        },
        {
          "output_type": "stream",
          "name": "stdout",
          "text": [
            "starting epoch:  2\n",
            "Train Epoch: 2, train-auc-score: 0.7643\n"
          ]
        },
        {
          "output_type": "stream",
          "name": "stderr",
          "text": [
            "INFO:train:Train Epoch: 2, train-auc-score: 0.7643\n"
          ]
        },
        {
          "output_type": "stream",
          "name": "stdout",
          "text": [
            "test_auc_score: 0.8158\n"
          ]
        },
        {
          "output_type": "stream",
          "name": "stderr",
          "text": [
            "INFO:train:test_auc_score: 0.8158\n"
          ]
        },
        {
          "output_type": "stream",
          "name": "stdout",
          "text": [
            "starting epoch:  3\n",
            "Train Epoch: 3, train-auc-score: 0.7739\n"
          ]
        },
        {
          "output_type": "stream",
          "name": "stderr",
          "text": [
            "INFO:train:Train Epoch: 3, train-auc-score: 0.7739\n"
          ]
        },
        {
          "output_type": "stream",
          "name": "stdout",
          "text": [
            "test_auc_score: 0.8190\n"
          ]
        },
        {
          "output_type": "stream",
          "name": "stderr",
          "text": [
            "INFO:train:test_auc_score: 0.8190\n"
          ]
        },
        {
          "output_type": "stream",
          "name": "stdout",
          "text": [
            "starting epoch:  4\n",
            "Train Epoch: 4, train-auc-score: 0.8105\n"
          ]
        },
        {
          "output_type": "stream",
          "name": "stderr",
          "text": [
            "INFO:train:Train Epoch: 4, train-auc-score: 0.8105\n"
          ]
        },
        {
          "output_type": "stream",
          "name": "stdout",
          "text": [
            "test_auc_score: 0.8203\n"
          ]
        },
        {
          "output_type": "stream",
          "name": "stderr",
          "text": [
            "INFO:train:test_auc_score: 0.8203\n"
          ]
        },
        {
          "output_type": "stream",
          "name": "stdout",
          "text": [
            "starting epoch:  5\n",
            "Train Epoch: 5, train-auc-score: 0.8264\n"
          ]
        },
        {
          "output_type": "stream",
          "name": "stderr",
          "text": [
            "INFO:train:Train Epoch: 5, train-auc-score: 0.8264\n"
          ]
        },
        {
          "output_type": "stream",
          "name": "stdout",
          "text": [
            "test_auc_score: 0.8068\n"
          ]
        },
        {
          "output_type": "stream",
          "name": "stderr",
          "text": [
            "INFO:train:test_auc_score: 0.8068\n"
          ]
        },
        {
          "output_type": "stream",
          "name": "stdout",
          "text": [
            "starting epoch:  6\n",
            "Train Epoch: 6, train-auc-score: 0.8402\n"
          ]
        },
        {
          "output_type": "stream",
          "name": "stderr",
          "text": [
            "INFO:train:Train Epoch: 6, train-auc-score: 0.8402\n"
          ]
        },
        {
          "output_type": "stream",
          "name": "stdout",
          "text": [
            "test_auc_score: 0.8309\n"
          ]
        },
        {
          "output_type": "stream",
          "name": "stderr",
          "text": [
            "INFO:train:test_auc_score: 0.8309\n"
          ]
        },
        {
          "output_type": "stream",
          "name": "stdout",
          "text": [
            "starting epoch:  7\n",
            "Train Epoch: 7, train-auc-score: 0.8344\n"
          ]
        },
        {
          "output_type": "stream",
          "name": "stderr",
          "text": [
            "INFO:train:Train Epoch: 7, train-auc-score: 0.8344\n"
          ]
        },
        {
          "output_type": "stream",
          "name": "stdout",
          "text": [
            "test_auc_score: 0.8068\n"
          ]
        },
        {
          "output_type": "stream",
          "name": "stderr",
          "text": [
            "INFO:train:test_auc_score: 0.8068\n"
          ]
        },
        {
          "output_type": "stream",
          "name": "stdout",
          "text": [
            "starting epoch:  8\n",
            "Train Epoch: 8, train-auc-score: 0.8591\n"
          ]
        },
        {
          "output_type": "stream",
          "name": "stderr",
          "text": [
            "INFO:train:Train Epoch: 8, train-auc-score: 0.8591\n"
          ]
        },
        {
          "output_type": "stream",
          "name": "stdout",
          "text": [
            "test_auc_score: 0.8443\n"
          ]
        },
        {
          "output_type": "stream",
          "name": "stderr",
          "text": [
            "INFO:train:test_auc_score: 0.8443\n"
          ]
        },
        {
          "output_type": "stream",
          "name": "stdout",
          "text": [
            "starting epoch:  9\n",
            "Train Epoch: 9, train-auc-score: 0.8643\n"
          ]
        },
        {
          "output_type": "stream",
          "name": "stderr",
          "text": [
            "INFO:train:Train Epoch: 9, train-auc-score: 0.8643\n"
          ]
        },
        {
          "output_type": "stream",
          "name": "stdout",
          "text": [
            "test_auc_score: 0.8553\n"
          ]
        },
        {
          "output_type": "stream",
          "name": "stderr",
          "text": [
            "INFO:train:test_auc_score: 0.8553\n"
          ]
        },
        {
          "output_type": "stream",
          "name": "stdout",
          "text": [
            "starting epoch:  10\n",
            "Train Epoch: 10, train-auc-score: 0.8705\n"
          ]
        },
        {
          "output_type": "stream",
          "name": "stderr",
          "text": [
            "INFO:train:Train Epoch: 10, train-auc-score: 0.8705\n"
          ]
        },
        {
          "output_type": "stream",
          "name": "stdout",
          "text": [
            "test_auc_score: 0.8630\n"
          ]
        },
        {
          "output_type": "stream",
          "name": "stderr",
          "text": [
            "INFO:train:test_auc_score: 0.8630\n"
          ]
        },
        {
          "output_type": "stream",
          "name": "stdout",
          "text": [
            "starting epoch:  11\n",
            "Train Epoch: 11, train-auc-score: 0.8714\n"
          ]
        },
        {
          "output_type": "stream",
          "name": "stderr",
          "text": [
            "INFO:train:Train Epoch: 11, train-auc-score: 0.8714\n"
          ]
        },
        {
          "output_type": "stream",
          "name": "stdout",
          "text": [
            "test_auc_score: 0.8653\n"
          ]
        },
        {
          "output_type": "stream",
          "name": "stderr",
          "text": [
            "INFO:train:test_auc_score: 0.8653\n"
          ]
        },
        {
          "output_type": "stream",
          "name": "stdout",
          "text": [
            "starting epoch:  12\n",
            "Train Epoch: 12, train-auc-score: 0.8794\n"
          ]
        },
        {
          "output_type": "stream",
          "name": "stderr",
          "text": [
            "INFO:train:Train Epoch: 12, train-auc-score: 0.8794\n"
          ]
        },
        {
          "output_type": "stream",
          "name": "stdout",
          "text": [
            "test_auc_score: 0.8556\n"
          ]
        },
        {
          "output_type": "stream",
          "name": "stderr",
          "text": [
            "INFO:train:test_auc_score: 0.8556\n"
          ]
        },
        {
          "output_type": "stream",
          "name": "stdout",
          "text": [
            "starting epoch:  13\n",
            "Train Epoch: 13, train-auc-score: 0.8754\n"
          ]
        },
        {
          "output_type": "stream",
          "name": "stderr",
          "text": [
            "INFO:train:Train Epoch: 13, train-auc-score: 0.8754\n"
          ]
        },
        {
          "output_type": "stream",
          "name": "stdout",
          "text": [
            "test_auc_score: 0.8649\n"
          ]
        },
        {
          "output_type": "stream",
          "name": "stderr",
          "text": [
            "INFO:train:test_auc_score: 0.8649\n"
          ]
        },
        {
          "output_type": "stream",
          "name": "stdout",
          "text": [
            "starting epoch:  14\n",
            "Train Epoch: 14, train-auc-score: 0.8865\n"
          ]
        },
        {
          "output_type": "stream",
          "name": "stderr",
          "text": [
            "INFO:train:Train Epoch: 14, train-auc-score: 0.8865\n"
          ]
        },
        {
          "output_type": "stream",
          "name": "stdout",
          "text": [
            "test_auc_score: 0.8637\n"
          ]
        },
        {
          "output_type": "stream",
          "name": "stderr",
          "text": [
            "INFO:train:test_auc_score: 0.8637\n"
          ]
        },
        {
          "output_type": "stream",
          "name": "stdout",
          "text": [
            "starting epoch:  15\n",
            "Train Epoch: 15, train-auc-score: 0.8891\n"
          ]
        },
        {
          "output_type": "stream",
          "name": "stderr",
          "text": [
            "INFO:train:Train Epoch: 15, train-auc-score: 0.8891\n"
          ]
        },
        {
          "output_type": "stream",
          "name": "stdout",
          "text": [
            "test_auc_score: 0.8501\n"
          ]
        },
        {
          "output_type": "stream",
          "name": "stderr",
          "text": [
            "INFO:train:test_auc_score: 0.8501\n"
          ]
        },
        {
          "output_type": "stream",
          "name": "stdout",
          "text": [
            "starting epoch:  16\n",
            "Train Epoch: 16, train-auc-score: 0.8731\n"
          ]
        },
        {
          "output_type": "stream",
          "name": "stderr",
          "text": [
            "INFO:train:Train Epoch: 16, train-auc-score: 0.8731\n"
          ]
        },
        {
          "output_type": "stream",
          "name": "stdout",
          "text": [
            "test_auc_score: 0.8173\n"
          ]
        },
        {
          "output_type": "stream",
          "name": "stderr",
          "text": [
            "INFO:train:test_auc_score: 0.8173\n"
          ]
        },
        {
          "output_type": "stream",
          "name": "stdout",
          "text": [
            "starting epoch:  17\n",
            "Train Epoch: 17, train-auc-score: 0.9016\n"
          ]
        },
        {
          "output_type": "stream",
          "name": "stderr",
          "text": [
            "INFO:train:Train Epoch: 17, train-auc-score: 0.9016\n"
          ]
        },
        {
          "output_type": "stream",
          "name": "stdout",
          "text": [
            "test_auc_score: 0.8772\n"
          ]
        },
        {
          "output_type": "stream",
          "name": "stderr",
          "text": [
            "INFO:train:test_auc_score: 0.8772\n"
          ]
        },
        {
          "output_type": "stream",
          "name": "stdout",
          "text": [
            "starting epoch:  18\n",
            "Train Epoch: 18, train-auc-score: 0.8992\n"
          ]
        },
        {
          "output_type": "stream",
          "name": "stderr",
          "text": [
            "INFO:train:Train Epoch: 18, train-auc-score: 0.8992\n"
          ]
        },
        {
          "output_type": "stream",
          "name": "stdout",
          "text": [
            "test_auc_score: 0.8747\n"
          ]
        },
        {
          "output_type": "stream",
          "name": "stderr",
          "text": [
            "INFO:train:test_auc_score: 0.8747\n"
          ]
        },
        {
          "output_type": "stream",
          "name": "stdout",
          "text": [
            "starting epoch:  19\n",
            "Train Epoch: 19, train-auc-score: 0.9095\n"
          ]
        },
        {
          "output_type": "stream",
          "name": "stderr",
          "text": [
            "INFO:train:Train Epoch: 19, train-auc-score: 0.9095\n"
          ]
        },
        {
          "output_type": "stream",
          "name": "stdout",
          "text": [
            "test_auc_score: 0.8698\n"
          ]
        },
        {
          "output_type": "stream",
          "name": "stderr",
          "text": [
            "INFO:train:test_auc_score: 0.8698\n"
          ]
        },
        {
          "output_type": "stream",
          "name": "stdout",
          "text": [
            "starting epoch:  20\n",
            "Train Epoch: 20, train-auc-score: 0.9125\n"
          ]
        },
        {
          "output_type": "stream",
          "name": "stderr",
          "text": [
            "INFO:train:Train Epoch: 20, train-auc-score: 0.9125\n"
          ]
        },
        {
          "output_type": "stream",
          "name": "stdout",
          "text": [
            "test_auc_score: 0.8696\n"
          ]
        },
        {
          "output_type": "stream",
          "name": "stderr",
          "text": [
            "INFO:train:test_auc_score: 0.8696\n"
          ]
        },
        {
          "output_type": "stream",
          "name": "stdout",
          "text": [
            "starting epoch:  21\n",
            "Train Epoch: 21, train-auc-score: 0.9118\n"
          ]
        },
        {
          "output_type": "stream",
          "name": "stderr",
          "text": [
            "INFO:train:Train Epoch: 21, train-auc-score: 0.9118\n"
          ]
        },
        {
          "output_type": "stream",
          "name": "stdout",
          "text": [
            "test_auc_score: 0.8726\n"
          ]
        },
        {
          "output_type": "stream",
          "name": "stderr",
          "text": [
            "INFO:train:test_auc_score: 0.8726\n"
          ]
        },
        {
          "output_type": "stream",
          "name": "stdout",
          "text": [
            "starting epoch:  22\n",
            "Train Epoch: 22, train-auc-score: 0.9206\n"
          ]
        },
        {
          "output_type": "stream",
          "name": "stderr",
          "text": [
            "INFO:train:Train Epoch: 22, train-auc-score: 0.9206\n"
          ]
        },
        {
          "output_type": "stream",
          "name": "stdout",
          "text": [
            "test_auc_score: 0.8793\n"
          ]
        },
        {
          "output_type": "stream",
          "name": "stderr",
          "text": [
            "INFO:train:test_auc_score: 0.8793\n"
          ]
        },
        {
          "output_type": "stream",
          "name": "stdout",
          "text": [
            "starting epoch:  23\n",
            "Train Epoch: 23, train-auc-score: 0.9197\n"
          ]
        },
        {
          "output_type": "stream",
          "name": "stderr",
          "text": [
            "INFO:train:Train Epoch: 23, train-auc-score: 0.9197\n"
          ]
        },
        {
          "output_type": "stream",
          "name": "stdout",
          "text": [
            "test_auc_score: 0.8796\n"
          ]
        },
        {
          "output_type": "stream",
          "name": "stderr",
          "text": [
            "INFO:train:test_auc_score: 0.8796\n"
          ]
        },
        {
          "output_type": "stream",
          "name": "stdout",
          "text": [
            "starting epoch:  24\n",
            "Train Epoch: 24, train-auc-score: 0.9183\n"
          ]
        },
        {
          "output_type": "stream",
          "name": "stderr",
          "text": [
            "INFO:train:Train Epoch: 24, train-auc-score: 0.9183\n"
          ]
        },
        {
          "output_type": "stream",
          "name": "stdout",
          "text": [
            "test_auc_score: 0.8827\n"
          ]
        },
        {
          "output_type": "stream",
          "name": "stderr",
          "text": [
            "INFO:train:test_auc_score: 0.8827\n"
          ]
        },
        {
          "output_type": "stream",
          "name": "stdout",
          "text": [
            "starting epoch:  25\n",
            "Train Epoch: 25, train-auc-score: 0.9303\n"
          ]
        },
        {
          "output_type": "stream",
          "name": "stderr",
          "text": [
            "INFO:train:Train Epoch: 25, train-auc-score: 0.9303\n"
          ]
        },
        {
          "output_type": "stream",
          "name": "stdout",
          "text": [
            "test_auc_score: 0.8759\n"
          ]
        },
        {
          "output_type": "stream",
          "name": "stderr",
          "text": [
            "INFO:train:test_auc_score: 0.8759\n"
          ]
        },
        {
          "output_type": "stream",
          "name": "stdout",
          "text": [
            "starting epoch:  26\n",
            "Train Epoch: 26, train-auc-score: 0.9242\n"
          ]
        },
        {
          "output_type": "stream",
          "name": "stderr",
          "text": [
            "INFO:train:Train Epoch: 26, train-auc-score: 0.9242\n"
          ]
        },
        {
          "output_type": "stream",
          "name": "stdout",
          "text": [
            "test_auc_score: 0.8764\n"
          ]
        },
        {
          "output_type": "stream",
          "name": "stderr",
          "text": [
            "INFO:train:test_auc_score: 0.8764\n"
          ]
        },
        {
          "output_type": "stream",
          "name": "stdout",
          "text": [
            "starting epoch:  27\n",
            "Train Epoch: 27, train-auc-score: 0.9291\n"
          ]
        },
        {
          "output_type": "stream",
          "name": "stderr",
          "text": [
            "INFO:train:Train Epoch: 27, train-auc-score: 0.9291\n"
          ]
        },
        {
          "output_type": "stream",
          "name": "stdout",
          "text": [
            "test_auc_score: 0.8817\n"
          ]
        },
        {
          "output_type": "stream",
          "name": "stderr",
          "text": [
            "INFO:train:test_auc_score: 0.8817\n"
          ]
        },
        {
          "output_type": "stream",
          "name": "stdout",
          "text": [
            "starting epoch:  28\n",
            "Train Epoch: 28, train-auc-score: 0.9241\n"
          ]
        },
        {
          "output_type": "stream",
          "name": "stderr",
          "text": [
            "INFO:train:Train Epoch: 28, train-auc-score: 0.9241\n"
          ]
        },
        {
          "output_type": "stream",
          "name": "stdout",
          "text": [
            "test_auc_score: 0.8772\n"
          ]
        },
        {
          "output_type": "stream",
          "name": "stderr",
          "text": [
            "INFO:train:test_auc_score: 0.8772\n"
          ]
        },
        {
          "output_type": "stream",
          "name": "stdout",
          "text": [
            "starting epoch:  29\n",
            "Train Epoch: 29, train-auc-score: 0.9252\n"
          ]
        },
        {
          "output_type": "stream",
          "name": "stderr",
          "text": [
            "INFO:train:Train Epoch: 29, train-auc-score: 0.9252\n"
          ]
        },
        {
          "output_type": "stream",
          "name": "stdout",
          "text": [
            "test_auc_score: 0.8748\n"
          ]
        },
        {
          "output_type": "stream",
          "name": "stderr",
          "text": [
            "INFO:train:test_auc_score: 0.8748\n"
          ]
        },
        {
          "output_type": "stream",
          "name": "stdout",
          "text": [
            "starting epoch:  30\n",
            "Train Epoch: 30, train-auc-score: 0.9232\n"
          ]
        },
        {
          "output_type": "stream",
          "name": "stderr",
          "text": [
            "INFO:train:Train Epoch: 30, train-auc-score: 0.9232\n"
          ]
        },
        {
          "output_type": "stream",
          "name": "stdout",
          "text": [
            "test_auc_score: 0.8853\n"
          ]
        },
        {
          "output_type": "stream",
          "name": "stderr",
          "text": [
            "INFO:train:test_auc_score: 0.8853\n"
          ]
        },
        {
          "output_type": "stream",
          "name": "stdout",
          "text": [
            "starting epoch:  31\n",
            "Train Epoch: 31, train-auc-score: 0.9266\n"
          ]
        },
        {
          "output_type": "stream",
          "name": "stderr",
          "text": [
            "INFO:train:Train Epoch: 31, train-auc-score: 0.9266\n"
          ]
        },
        {
          "output_type": "stream",
          "name": "stdout",
          "text": [
            "test_auc_score: 0.8834\n"
          ]
        },
        {
          "output_type": "stream",
          "name": "stderr",
          "text": [
            "INFO:train:test_auc_score: 0.8834\n"
          ]
        },
        {
          "output_type": "stream",
          "name": "stdout",
          "text": [
            "starting epoch:  32\n",
            "Train Epoch: 32, train-auc-score: 0.9269\n"
          ]
        },
        {
          "output_type": "stream",
          "name": "stderr",
          "text": [
            "INFO:train:Train Epoch: 32, train-auc-score: 0.9269\n"
          ]
        },
        {
          "output_type": "stream",
          "name": "stdout",
          "text": [
            "test_auc_score: 0.8749\n"
          ]
        },
        {
          "output_type": "stream",
          "name": "stderr",
          "text": [
            "INFO:train:test_auc_score: 0.8749\n"
          ]
        },
        {
          "output_type": "stream",
          "name": "stdout",
          "text": [
            "starting epoch:  33\n",
            "Train Epoch: 33, train-auc-score: 0.9299\n"
          ]
        },
        {
          "output_type": "stream",
          "name": "stderr",
          "text": [
            "INFO:train:Train Epoch: 33, train-auc-score: 0.9299\n"
          ]
        },
        {
          "output_type": "stream",
          "name": "stdout",
          "text": [
            "test_auc_score: 0.8771\n"
          ]
        },
        {
          "output_type": "stream",
          "name": "stderr",
          "text": [
            "INFO:train:test_auc_score: 0.8771\n"
          ]
        },
        {
          "output_type": "stream",
          "name": "stdout",
          "text": [
            "starting epoch:  34\n",
            "Train Epoch: 34, train-auc-score: 0.9343\n"
          ]
        },
        {
          "output_type": "stream",
          "name": "stderr",
          "text": [
            "INFO:train:Train Epoch: 34, train-auc-score: 0.9343\n"
          ]
        },
        {
          "output_type": "stream",
          "name": "stdout",
          "text": [
            "test_auc_score: 0.8808\n"
          ]
        },
        {
          "output_type": "stream",
          "name": "stderr",
          "text": [
            "INFO:train:test_auc_score: 0.8808\n"
          ]
        },
        {
          "output_type": "stream",
          "name": "stdout",
          "text": [
            "starting epoch:  35\n",
            "Train Epoch: 35, train-auc-score: 0.9320\n"
          ]
        },
        {
          "output_type": "stream",
          "name": "stderr",
          "text": [
            "INFO:train:Train Epoch: 35, train-auc-score: 0.9320\n"
          ]
        },
        {
          "output_type": "stream",
          "name": "stdout",
          "text": [
            "test_auc_score: 0.8903\n"
          ]
        },
        {
          "output_type": "stream",
          "name": "stderr",
          "text": [
            "INFO:train:test_auc_score: 0.8903\n"
          ]
        },
        {
          "output_type": "stream",
          "name": "stdout",
          "text": [
            "starting epoch:  36\n",
            "Train Epoch: 36, train-auc-score: 0.9311\n"
          ]
        },
        {
          "output_type": "stream",
          "name": "stderr",
          "text": [
            "INFO:train:Train Epoch: 36, train-auc-score: 0.9311\n"
          ]
        },
        {
          "output_type": "stream",
          "name": "stdout",
          "text": [
            "test_auc_score: 0.8797\n"
          ]
        },
        {
          "output_type": "stream",
          "name": "stderr",
          "text": [
            "INFO:train:test_auc_score: 0.8797\n"
          ]
        },
        {
          "output_type": "stream",
          "name": "stdout",
          "text": [
            "starting epoch:  37\n",
            "Train Epoch: 37, train-auc-score: 0.9188\n"
          ]
        },
        {
          "output_type": "stream",
          "name": "stderr",
          "text": [
            "INFO:train:Train Epoch: 37, train-auc-score: 0.9188\n"
          ]
        },
        {
          "output_type": "stream",
          "name": "stdout",
          "text": [
            "test_auc_score: 0.8700\n"
          ]
        },
        {
          "output_type": "stream",
          "name": "stderr",
          "text": [
            "INFO:train:test_auc_score: 0.8700\n"
          ]
        },
        {
          "output_type": "stream",
          "name": "stdout",
          "text": [
            "starting epoch:  38\n",
            "Train Epoch: 38, train-auc-score: 0.9298\n"
          ]
        },
        {
          "output_type": "stream",
          "name": "stderr",
          "text": [
            "INFO:train:Train Epoch: 38, train-auc-score: 0.9298\n"
          ]
        },
        {
          "output_type": "stream",
          "name": "stdout",
          "text": [
            "test_auc_score: 0.8717\n"
          ]
        },
        {
          "output_type": "stream",
          "name": "stderr",
          "text": [
            "INFO:train:test_auc_score: 0.8717\n"
          ]
        },
        {
          "output_type": "stream",
          "name": "stdout",
          "text": [
            "starting epoch:  39\n",
            "Train Epoch: 39, train-auc-score: 0.9275\n"
          ]
        },
        {
          "output_type": "stream",
          "name": "stderr",
          "text": [
            "INFO:train:Train Epoch: 39, train-auc-score: 0.9275\n"
          ]
        },
        {
          "output_type": "stream",
          "name": "stdout",
          "text": [
            "test_auc_score: 0.8764\n"
          ]
        },
        {
          "output_type": "stream",
          "name": "stderr",
          "text": [
            "INFO:train:test_auc_score: 0.8764\n"
          ]
        },
        {
          "output_type": "stream",
          "name": "stdout",
          "text": [
            "starting epoch:  40\n",
            "Train Epoch: 40, train-auc-score: 0.9288\n"
          ]
        },
        {
          "output_type": "stream",
          "name": "stderr",
          "text": [
            "INFO:train:Train Epoch: 40, train-auc-score: 0.9288\n"
          ]
        },
        {
          "output_type": "stream",
          "name": "stdout",
          "text": [
            "test_auc_score: 0.8827\n"
          ]
        },
        {
          "output_type": "stream",
          "name": "stderr",
          "text": [
            "INFO:train:test_auc_score: 0.8827\n"
          ]
        },
        {
          "output_type": "stream",
          "name": "stdout",
          "text": [
            "starting epoch:  41\n",
            "Train Epoch: 41, train-auc-score: 0.9342\n"
          ]
        },
        {
          "output_type": "stream",
          "name": "stderr",
          "text": [
            "INFO:train:Train Epoch: 41, train-auc-score: 0.9342\n"
          ]
        },
        {
          "output_type": "stream",
          "name": "stdout",
          "text": [
            "test_auc_score: 0.8776\n"
          ]
        },
        {
          "output_type": "stream",
          "name": "stderr",
          "text": [
            "INFO:train:test_auc_score: 0.8776\n"
          ]
        },
        {
          "output_type": "stream",
          "name": "stdout",
          "text": [
            "starting epoch:  42\n",
            "Train Epoch: 42, train-auc-score: 0.9365\n"
          ]
        },
        {
          "output_type": "stream",
          "name": "stderr",
          "text": [
            "INFO:train:Train Epoch: 42, train-auc-score: 0.9365\n"
          ]
        },
        {
          "output_type": "stream",
          "name": "stdout",
          "text": [
            "test_auc_score: 0.8662\n"
          ]
        },
        {
          "output_type": "stream",
          "name": "stderr",
          "text": [
            "INFO:train:test_auc_score: 0.8662\n"
          ]
        },
        {
          "output_type": "stream",
          "name": "stdout",
          "text": [
            "starting epoch:  43\n",
            "Train Epoch: 43, train-auc-score: 0.9235\n"
          ]
        },
        {
          "output_type": "stream",
          "name": "stderr",
          "text": [
            "INFO:train:Train Epoch: 43, train-auc-score: 0.9235\n"
          ]
        },
        {
          "output_type": "stream",
          "name": "stdout",
          "text": [
            "test_auc_score: 0.8857\n"
          ]
        },
        {
          "output_type": "stream",
          "name": "stderr",
          "text": [
            "INFO:train:test_auc_score: 0.8857\n"
          ]
        },
        {
          "output_type": "stream",
          "name": "stdout",
          "text": [
            "starting epoch:  44\n",
            "Train Epoch: 44, train-auc-score: 0.9366\n"
          ]
        },
        {
          "output_type": "stream",
          "name": "stderr",
          "text": [
            "INFO:train:Train Epoch: 44, train-auc-score: 0.9366\n"
          ]
        },
        {
          "output_type": "stream",
          "name": "stdout",
          "text": [
            "test_auc_score: 0.8829\n"
          ]
        },
        {
          "output_type": "stream",
          "name": "stderr",
          "text": [
            "INFO:train:test_auc_score: 0.8829\n"
          ]
        },
        {
          "output_type": "stream",
          "name": "stdout",
          "text": [
            "starting epoch:  45\n",
            "Train Epoch: 45, train-auc-score: 0.9288\n"
          ]
        },
        {
          "output_type": "stream",
          "name": "stderr",
          "text": [
            "INFO:train:Train Epoch: 45, train-auc-score: 0.9288\n"
          ]
        },
        {
          "output_type": "stream",
          "name": "stdout",
          "text": [
            "test_auc_score: 0.8844\n"
          ]
        },
        {
          "output_type": "stream",
          "name": "stderr",
          "text": [
            "INFO:train:test_auc_score: 0.8844\n"
          ]
        },
        {
          "output_type": "stream",
          "name": "stdout",
          "text": [
            "starting epoch:  46\n",
            "Train Epoch: 46, train-auc-score: 0.9284\n"
          ]
        },
        {
          "output_type": "stream",
          "name": "stderr",
          "text": [
            "INFO:train:Train Epoch: 46, train-auc-score: 0.9284\n"
          ]
        },
        {
          "output_type": "stream",
          "name": "stdout",
          "text": [
            "test_auc_score: 0.8798\n"
          ]
        },
        {
          "output_type": "stream",
          "name": "stderr",
          "text": [
            "INFO:train:test_auc_score: 0.8798\n"
          ]
        },
        {
          "output_type": "stream",
          "name": "stdout",
          "text": [
            "starting epoch:  47\n",
            "Train Epoch: 47, train-auc-score: 0.9314\n"
          ]
        },
        {
          "output_type": "stream",
          "name": "stderr",
          "text": [
            "INFO:train:Train Epoch: 47, train-auc-score: 0.9314\n"
          ]
        },
        {
          "output_type": "stream",
          "name": "stdout",
          "text": [
            "test_auc_score: 0.8694\n"
          ]
        },
        {
          "output_type": "stream",
          "name": "stderr",
          "text": [
            "INFO:train:test_auc_score: 0.8694\n"
          ]
        },
        {
          "output_type": "stream",
          "name": "stdout",
          "text": [
            "starting epoch:  48\n",
            "Train Epoch: 48, train-auc-score: 0.9321\n"
          ]
        },
        {
          "output_type": "stream",
          "name": "stderr",
          "text": [
            "INFO:train:Train Epoch: 48, train-auc-score: 0.9321\n"
          ]
        },
        {
          "output_type": "stream",
          "name": "stdout",
          "text": [
            "test_auc_score: 0.8697\n"
          ]
        },
        {
          "output_type": "stream",
          "name": "stderr",
          "text": [
            "INFO:train:test_auc_score: 0.8697\n"
          ]
        },
        {
          "output_type": "stream",
          "name": "stdout",
          "text": [
            "starting epoch:  49\n",
            "Train Epoch: 49, train-auc-score: 0.9261\n"
          ]
        },
        {
          "output_type": "stream",
          "name": "stderr",
          "text": [
            "INFO:train:Train Epoch: 49, train-auc-score: 0.9261\n"
          ]
        },
        {
          "output_type": "stream",
          "name": "stdout",
          "text": [
            "test_auc_score: 0.8763\n"
          ]
        },
        {
          "output_type": "stream",
          "name": "stderr",
          "text": [
            "INFO:train:test_auc_score: 0.8763\n"
          ]
        },
        {
          "output_type": "stream",
          "name": "stdout",
          "text": [
            "starting epoch:  50\n",
            "Train Epoch: 50, train-auc-score: 0.9274\n"
          ]
        },
        {
          "output_type": "stream",
          "name": "stderr",
          "text": [
            "INFO:train:Train Epoch: 50, train-auc-score: 0.9274\n"
          ]
        },
        {
          "output_type": "stream",
          "name": "stdout",
          "text": [
            "test_auc_score: 0.8673\n"
          ]
        },
        {
          "output_type": "stream",
          "name": "stderr",
          "text": [
            "INFO:train:test_auc_score: 0.8673\n"
          ]
        },
        {
          "output_type": "stream",
          "name": "stdout",
          "text": [
            "starting epoch:  51\n",
            "Train Epoch: 51, train-auc-score: 0.9334\n"
          ]
        },
        {
          "output_type": "stream",
          "name": "stderr",
          "text": [
            "INFO:train:Train Epoch: 51, train-auc-score: 0.9334\n"
          ]
        },
        {
          "output_type": "stream",
          "name": "stdout",
          "text": [
            "test_auc_score: 0.8658\n"
          ]
        },
        {
          "output_type": "stream",
          "name": "stderr",
          "text": [
            "INFO:train:test_auc_score: 0.8658\n"
          ]
        },
        {
          "output_type": "stream",
          "name": "stdout",
          "text": [
            "starting epoch:  52\n",
            "Train Epoch: 52, train-auc-score: 0.9284\n"
          ]
        },
        {
          "output_type": "stream",
          "name": "stderr",
          "text": [
            "INFO:train:Train Epoch: 52, train-auc-score: 0.9284\n"
          ]
        },
        {
          "output_type": "stream",
          "name": "stdout",
          "text": [
            "test_auc_score: 0.8741\n"
          ]
        },
        {
          "output_type": "stream",
          "name": "stderr",
          "text": [
            "INFO:train:test_auc_score: 0.8741\n"
          ]
        },
        {
          "output_type": "stream",
          "name": "stdout",
          "text": [
            "starting epoch:  53\n",
            "Train Epoch: 53, train-auc-score: 0.9333\n"
          ]
        },
        {
          "output_type": "stream",
          "name": "stderr",
          "text": [
            "INFO:train:Train Epoch: 53, train-auc-score: 0.9333\n"
          ]
        },
        {
          "output_type": "stream",
          "name": "stdout",
          "text": [
            "test_auc_score: 0.8851\n"
          ]
        },
        {
          "output_type": "stream",
          "name": "stderr",
          "text": [
            "INFO:train:test_auc_score: 0.8851\n"
          ]
        },
        {
          "output_type": "stream",
          "name": "stdout",
          "text": [
            "starting epoch:  54\n",
            "Train Epoch: 54, train-auc-score: 0.9326\n"
          ]
        },
        {
          "output_type": "stream",
          "name": "stderr",
          "text": [
            "INFO:train:Train Epoch: 54, train-auc-score: 0.9326\n"
          ]
        },
        {
          "output_type": "stream",
          "name": "stdout",
          "text": [
            "test_auc_score: 0.8685\n"
          ]
        },
        {
          "output_type": "stream",
          "name": "stderr",
          "text": [
            "INFO:train:test_auc_score: 0.8685\n"
          ]
        },
        {
          "output_type": "stream",
          "name": "stdout",
          "text": [
            "starting epoch:  55\n",
            "Train Epoch: 55, train-auc-score: 0.9209\n"
          ]
        },
        {
          "output_type": "stream",
          "name": "stderr",
          "text": [
            "INFO:train:Train Epoch: 55, train-auc-score: 0.9209\n"
          ]
        },
        {
          "output_type": "stream",
          "name": "stdout",
          "text": [
            "test_auc_score: 0.8634\n"
          ]
        },
        {
          "output_type": "stream",
          "name": "stderr",
          "text": [
            "INFO:train:test_auc_score: 0.8634\n"
          ]
        },
        {
          "output_type": "stream",
          "name": "stdout",
          "text": [
            "starting epoch:  56\n",
            "Train Epoch: 56, train-auc-score: 0.9317\n"
          ]
        },
        {
          "output_type": "stream",
          "name": "stderr",
          "text": [
            "INFO:train:Train Epoch: 56, train-auc-score: 0.9317\n"
          ]
        },
        {
          "output_type": "stream",
          "name": "stdout",
          "text": [
            "test_auc_score: 0.8695\n"
          ]
        },
        {
          "output_type": "stream",
          "name": "stderr",
          "text": [
            "INFO:train:test_auc_score: 0.8695\n"
          ]
        },
        {
          "output_type": "stream",
          "name": "stdout",
          "text": [
            "starting epoch:  57\n",
            "Train Epoch: 57, train-auc-score: 0.9300\n"
          ]
        },
        {
          "output_type": "stream",
          "name": "stderr",
          "text": [
            "INFO:train:Train Epoch: 57, train-auc-score: 0.9300\n"
          ]
        },
        {
          "output_type": "stream",
          "name": "stdout",
          "text": [
            "test_auc_score: 0.8719\n"
          ]
        },
        {
          "output_type": "stream",
          "name": "stderr",
          "text": [
            "INFO:train:test_auc_score: 0.8719\n"
          ]
        },
        {
          "output_type": "stream",
          "name": "stdout",
          "text": [
            "starting epoch:  58\n",
            "Train Epoch: 58, train-auc-score: 0.9275\n"
          ]
        },
        {
          "output_type": "stream",
          "name": "stderr",
          "text": [
            "INFO:train:Train Epoch: 58, train-auc-score: 0.9275\n"
          ]
        },
        {
          "output_type": "stream",
          "name": "stdout",
          "text": [
            "test_auc_score: 0.8728\n"
          ]
        },
        {
          "output_type": "stream",
          "name": "stderr",
          "text": [
            "INFO:train:test_auc_score: 0.8728\n"
          ]
        },
        {
          "output_type": "stream",
          "name": "stdout",
          "text": [
            "starting epoch:  59\n",
            "Train Epoch: 59, train-auc-score: 0.9320\n"
          ]
        },
        {
          "output_type": "stream",
          "name": "stderr",
          "text": [
            "INFO:train:Train Epoch: 59, train-auc-score: 0.9320\n"
          ]
        },
        {
          "output_type": "stream",
          "name": "stdout",
          "text": [
            "test_auc_score: 0.8722\n"
          ]
        },
        {
          "output_type": "stream",
          "name": "stderr",
          "text": [
            "INFO:train:test_auc_score: 0.8722\n"
          ]
        },
        {
          "output_type": "stream",
          "name": "stdout",
          "text": [
            "starting epoch:  60\n",
            "Train Epoch: 60, train-auc-score: 0.9297\n"
          ]
        },
        {
          "output_type": "stream",
          "name": "stderr",
          "text": [
            "INFO:train:Train Epoch: 60, train-auc-score: 0.9297\n"
          ]
        },
        {
          "output_type": "stream",
          "name": "stdout",
          "text": [
            "test_auc_score: 0.8697\n"
          ]
        },
        {
          "output_type": "stream",
          "name": "stderr",
          "text": [
            "INFO:train:test_auc_score: 0.8697\n"
          ]
        },
        {
          "output_type": "stream",
          "name": "stdout",
          "text": [
            "starting epoch:  61\n",
            "Train Epoch: 61, train-auc-score: 0.9360\n"
          ]
        },
        {
          "output_type": "stream",
          "name": "stderr",
          "text": [
            "INFO:train:Train Epoch: 61, train-auc-score: 0.9360\n"
          ]
        },
        {
          "output_type": "stream",
          "name": "stdout",
          "text": [
            "test_auc_score: 0.8744\n"
          ]
        },
        {
          "output_type": "stream",
          "name": "stderr",
          "text": [
            "INFO:train:test_auc_score: 0.8744\n"
          ]
        },
        {
          "output_type": "stream",
          "name": "stdout",
          "text": [
            "starting epoch:  62\n",
            "Train Epoch: 62, train-auc-score: 0.9304\n"
          ]
        },
        {
          "output_type": "stream",
          "name": "stderr",
          "text": [
            "INFO:train:Train Epoch: 62, train-auc-score: 0.9304\n"
          ]
        },
        {
          "output_type": "stream",
          "name": "stdout",
          "text": [
            "test_auc_score: 0.8539\n"
          ]
        },
        {
          "output_type": "stream",
          "name": "stderr",
          "text": [
            "INFO:train:test_auc_score: 0.8539\n"
          ]
        },
        {
          "output_type": "stream",
          "name": "stdout",
          "text": [
            "starting epoch:  63\n",
            "Train Epoch: 63, train-auc-score: 0.9246\n"
          ]
        },
        {
          "output_type": "stream",
          "name": "stderr",
          "text": [
            "INFO:train:Train Epoch: 63, train-auc-score: 0.9246\n"
          ]
        },
        {
          "output_type": "stream",
          "name": "stdout",
          "text": [
            "test_auc_score: 0.8599\n"
          ]
        },
        {
          "output_type": "stream",
          "name": "stderr",
          "text": [
            "INFO:train:test_auc_score: 0.8599\n"
          ]
        },
        {
          "output_type": "stream",
          "name": "stdout",
          "text": [
            "starting epoch:  64\n",
            "Train Epoch: 64, train-auc-score: 0.9267\n"
          ]
        },
        {
          "output_type": "stream",
          "name": "stderr",
          "text": [
            "INFO:train:Train Epoch: 64, train-auc-score: 0.9267\n"
          ]
        },
        {
          "output_type": "stream",
          "name": "stdout",
          "text": [
            "test_auc_score: 0.8757\n"
          ]
        },
        {
          "output_type": "stream",
          "name": "stderr",
          "text": [
            "INFO:train:test_auc_score: 0.8757\n"
          ]
        },
        {
          "output_type": "stream",
          "name": "stdout",
          "text": [
            "starting epoch:  65\n",
            "Train Epoch: 65, train-auc-score: 0.9301\n"
          ]
        },
        {
          "output_type": "stream",
          "name": "stderr",
          "text": [
            "INFO:train:Train Epoch: 65, train-auc-score: 0.9301\n"
          ]
        },
        {
          "output_type": "stream",
          "name": "stdout",
          "text": [
            "test_auc_score: 0.8736\n"
          ]
        },
        {
          "output_type": "stream",
          "name": "stderr",
          "text": [
            "INFO:train:test_auc_score: 0.8736\n"
          ]
        },
        {
          "output_type": "stream",
          "name": "stdout",
          "text": [
            "starting epoch:  66\n",
            "Train Epoch: 66, train-auc-score: 0.9283\n"
          ]
        },
        {
          "output_type": "stream",
          "name": "stderr",
          "text": [
            "INFO:train:Train Epoch: 66, train-auc-score: 0.9283\n"
          ]
        },
        {
          "output_type": "stream",
          "name": "stdout",
          "text": [
            "test_auc_score: 0.8571\n"
          ]
        },
        {
          "output_type": "stream",
          "name": "stderr",
          "text": [
            "INFO:train:test_auc_score: 0.8571\n"
          ]
        },
        {
          "output_type": "stream",
          "name": "stdout",
          "text": [
            "starting epoch:  67\n",
            "Train Epoch: 67, train-auc-score: 0.9333\n"
          ]
        },
        {
          "output_type": "stream",
          "name": "stderr",
          "text": [
            "INFO:train:Train Epoch: 67, train-auc-score: 0.9333\n"
          ]
        },
        {
          "output_type": "stream",
          "name": "stdout",
          "text": [
            "test_auc_score: 0.8795\n"
          ]
        },
        {
          "output_type": "stream",
          "name": "stderr",
          "text": [
            "INFO:train:test_auc_score: 0.8795\n"
          ]
        },
        {
          "output_type": "stream",
          "name": "stdout",
          "text": [
            "starting epoch:  68\n",
            "Train Epoch: 68, train-auc-score: 0.9292\n"
          ]
        },
        {
          "output_type": "stream",
          "name": "stderr",
          "text": [
            "INFO:train:Train Epoch: 68, train-auc-score: 0.9292\n"
          ]
        },
        {
          "output_type": "stream",
          "name": "stdout",
          "text": [
            "test_auc_score: 0.8666\n"
          ]
        },
        {
          "output_type": "stream",
          "name": "stderr",
          "text": [
            "INFO:train:test_auc_score: 0.8666\n"
          ]
        },
        {
          "output_type": "stream",
          "name": "stdout",
          "text": [
            "starting epoch:  69\n",
            "Train Epoch: 69, train-auc-score: 0.9344\n"
          ]
        },
        {
          "output_type": "stream",
          "name": "stderr",
          "text": [
            "INFO:train:Train Epoch: 69, train-auc-score: 0.9344\n"
          ]
        },
        {
          "output_type": "stream",
          "name": "stdout",
          "text": [
            "test_auc_score: 0.8765\n"
          ]
        },
        {
          "output_type": "stream",
          "name": "stderr",
          "text": [
            "INFO:train:test_auc_score: 0.8765\n"
          ]
        },
        {
          "output_type": "stream",
          "name": "stdout",
          "text": [
            "starting epoch:  70\n",
            "Train Epoch: 70, train-auc-score: 0.9244\n"
          ]
        },
        {
          "output_type": "stream",
          "name": "stderr",
          "text": [
            "INFO:train:Train Epoch: 70, train-auc-score: 0.9244\n"
          ]
        },
        {
          "output_type": "stream",
          "name": "stdout",
          "text": [
            "test_auc_score: 0.8625\n"
          ]
        },
        {
          "output_type": "stream",
          "name": "stderr",
          "text": [
            "INFO:train:test_auc_score: 0.8625\n"
          ]
        },
        {
          "output_type": "stream",
          "name": "stdout",
          "text": [
            "starting epoch:  71\n",
            "Train Epoch: 71, train-auc-score: 0.9333\n"
          ]
        },
        {
          "output_type": "stream",
          "name": "stderr",
          "text": [
            "INFO:train:Train Epoch: 71, train-auc-score: 0.9333\n"
          ]
        },
        {
          "output_type": "stream",
          "name": "stdout",
          "text": [
            "test_auc_score: 0.8619\n"
          ]
        },
        {
          "output_type": "stream",
          "name": "stderr",
          "text": [
            "INFO:train:test_auc_score: 0.8619\n"
          ]
        },
        {
          "output_type": "stream",
          "name": "stdout",
          "text": [
            "starting epoch:  72\n",
            "Train Epoch: 72, train-auc-score: 0.9291\n"
          ]
        },
        {
          "output_type": "stream",
          "name": "stderr",
          "text": [
            "INFO:train:Train Epoch: 72, train-auc-score: 0.9291\n"
          ]
        },
        {
          "output_type": "stream",
          "name": "stdout",
          "text": [
            "test_auc_score: 0.8637\n"
          ]
        },
        {
          "output_type": "stream",
          "name": "stderr",
          "text": [
            "INFO:train:test_auc_score: 0.8637\n"
          ]
        },
        {
          "output_type": "stream",
          "name": "stdout",
          "text": [
            "starting epoch:  73\n",
            "Train Epoch: 73, train-auc-score: 0.9299\n"
          ]
        },
        {
          "output_type": "stream",
          "name": "stderr",
          "text": [
            "INFO:train:Train Epoch: 73, train-auc-score: 0.9299\n"
          ]
        },
        {
          "output_type": "stream",
          "name": "stdout",
          "text": [
            "test_auc_score: 0.8662\n"
          ]
        },
        {
          "output_type": "stream",
          "name": "stderr",
          "text": [
            "INFO:train:test_auc_score: 0.8662\n"
          ]
        },
        {
          "output_type": "stream",
          "name": "stdout",
          "text": [
            "starting epoch:  74\n",
            "Train Epoch: 74, train-auc-score: 0.9345\n"
          ]
        },
        {
          "output_type": "stream",
          "name": "stderr",
          "text": [
            "INFO:train:Train Epoch: 74, train-auc-score: 0.9345\n"
          ]
        },
        {
          "output_type": "stream",
          "name": "stdout",
          "text": [
            "test_auc_score: 0.8634\n"
          ]
        },
        {
          "output_type": "stream",
          "name": "stderr",
          "text": [
            "INFO:train:test_auc_score: 0.8634\n"
          ]
        },
        {
          "output_type": "stream",
          "name": "stdout",
          "text": [
            "starting epoch:  75\n",
            "Train Epoch: 75, train-auc-score: 0.9303\n"
          ]
        },
        {
          "output_type": "stream",
          "name": "stderr",
          "text": [
            "INFO:train:Train Epoch: 75, train-auc-score: 0.9303\n"
          ]
        },
        {
          "output_type": "stream",
          "name": "stdout",
          "text": [
            "test_auc_score: 0.8794\n"
          ]
        },
        {
          "output_type": "stream",
          "name": "stderr",
          "text": [
            "INFO:train:test_auc_score: 0.8794\n"
          ]
        },
        {
          "output_type": "stream",
          "name": "stdout",
          "text": [
            "starting epoch:  76\n",
            "Train Epoch: 76, train-auc-score: 0.9366\n"
          ]
        },
        {
          "output_type": "stream",
          "name": "stderr",
          "text": [
            "INFO:train:Train Epoch: 76, train-auc-score: 0.9366\n"
          ]
        },
        {
          "output_type": "stream",
          "name": "stdout",
          "text": [
            "test_auc_score: 0.8599\n"
          ]
        },
        {
          "output_type": "stream",
          "name": "stderr",
          "text": [
            "INFO:train:test_auc_score: 0.8599\n"
          ]
        },
        {
          "output_type": "stream",
          "name": "stdout",
          "text": [
            "starting epoch:  77\n",
            "Train Epoch: 77, train-auc-score: 0.9385\n"
          ]
        },
        {
          "output_type": "stream",
          "name": "stderr",
          "text": [
            "INFO:train:Train Epoch: 77, train-auc-score: 0.9385\n"
          ]
        },
        {
          "output_type": "stream",
          "name": "stdout",
          "text": [
            "test_auc_score: 0.8748\n"
          ]
        },
        {
          "output_type": "stream",
          "name": "stderr",
          "text": [
            "INFO:train:test_auc_score: 0.8748\n"
          ]
        },
        {
          "output_type": "stream",
          "name": "stdout",
          "text": [
            "starting epoch:  78\n",
            "Train Epoch: 78, train-auc-score: 0.9345\n"
          ]
        },
        {
          "output_type": "stream",
          "name": "stderr",
          "text": [
            "INFO:train:Train Epoch: 78, train-auc-score: 0.9345\n"
          ]
        },
        {
          "output_type": "stream",
          "name": "stdout",
          "text": [
            "test_auc_score: 0.8771\n"
          ]
        },
        {
          "output_type": "stream",
          "name": "stderr",
          "text": [
            "INFO:train:test_auc_score: 0.8771\n"
          ]
        },
        {
          "output_type": "stream",
          "name": "stdout",
          "text": [
            "starting epoch:  79\n",
            "Train Epoch: 79, train-auc-score: 0.9335\n"
          ]
        },
        {
          "output_type": "stream",
          "name": "stderr",
          "text": [
            "INFO:train:Train Epoch: 79, train-auc-score: 0.9335\n"
          ]
        },
        {
          "output_type": "stream",
          "name": "stdout",
          "text": [
            "test_auc_score: 0.8751\n"
          ]
        },
        {
          "output_type": "stream",
          "name": "stderr",
          "text": [
            "INFO:train:test_auc_score: 0.8751\n"
          ]
        },
        {
          "output_type": "stream",
          "name": "stdout",
          "text": [
            "starting epoch:  80\n",
            "Train Epoch: 80, train-auc-score: 0.9232\n"
          ]
        },
        {
          "output_type": "stream",
          "name": "stderr",
          "text": [
            "INFO:train:Train Epoch: 80, train-auc-score: 0.9232\n"
          ]
        },
        {
          "output_type": "stream",
          "name": "stdout",
          "text": [
            "test_auc_score: 0.8728\n"
          ]
        },
        {
          "output_type": "stream",
          "name": "stderr",
          "text": [
            "INFO:train:test_auc_score: 0.8728\n"
          ]
        },
        {
          "output_type": "stream",
          "name": "stdout",
          "text": [
            "starting epoch:  81\n",
            "Train Epoch: 81, train-auc-score: 0.9271\n"
          ]
        },
        {
          "output_type": "stream",
          "name": "stderr",
          "text": [
            "INFO:train:Train Epoch: 81, train-auc-score: 0.9271\n"
          ]
        },
        {
          "output_type": "stream",
          "name": "stdout",
          "text": [
            "test_auc_score: 0.8602\n"
          ]
        },
        {
          "output_type": "stream",
          "name": "stderr",
          "text": [
            "INFO:train:test_auc_score: 0.8602\n"
          ]
        },
        {
          "output_type": "stream",
          "name": "stdout",
          "text": [
            "starting epoch:  82\n",
            "Train Epoch: 82, train-auc-score: 0.9349\n"
          ]
        },
        {
          "output_type": "stream",
          "name": "stderr",
          "text": [
            "INFO:train:Train Epoch: 82, train-auc-score: 0.9349\n"
          ]
        },
        {
          "output_type": "stream",
          "name": "stdout",
          "text": [
            "test_auc_score: 0.8731\n"
          ]
        },
        {
          "output_type": "stream",
          "name": "stderr",
          "text": [
            "INFO:train:test_auc_score: 0.8731\n"
          ]
        },
        {
          "output_type": "stream",
          "name": "stdout",
          "text": [
            "starting epoch:  83\n",
            "Train Epoch: 83, train-auc-score: 0.9382\n"
          ]
        },
        {
          "output_type": "stream",
          "name": "stderr",
          "text": [
            "INFO:train:Train Epoch: 83, train-auc-score: 0.9382\n"
          ]
        },
        {
          "output_type": "stream",
          "name": "stdout",
          "text": [
            "test_auc_score: 0.8737\n"
          ]
        },
        {
          "output_type": "stream",
          "name": "stderr",
          "text": [
            "INFO:train:test_auc_score: 0.8737\n"
          ]
        },
        {
          "output_type": "stream",
          "name": "stdout",
          "text": [
            "starting epoch:  84\n",
            "Train Epoch: 84, train-auc-score: 0.9262\n"
          ]
        },
        {
          "output_type": "stream",
          "name": "stderr",
          "text": [
            "INFO:train:Train Epoch: 84, train-auc-score: 0.9262\n"
          ]
        },
        {
          "output_type": "stream",
          "name": "stdout",
          "text": [
            "test_auc_score: 0.8668\n"
          ]
        },
        {
          "output_type": "stream",
          "name": "stderr",
          "text": [
            "INFO:train:test_auc_score: 0.8668\n"
          ]
        },
        {
          "output_type": "stream",
          "name": "stdout",
          "text": [
            "starting epoch:  85\n",
            "Train Epoch: 85, train-auc-score: 0.9240\n"
          ]
        },
        {
          "output_type": "stream",
          "name": "stderr",
          "text": [
            "INFO:train:Train Epoch: 85, train-auc-score: 0.9240\n"
          ]
        },
        {
          "output_type": "stream",
          "name": "stdout",
          "text": [
            "test_auc_score: 0.8744\n"
          ]
        },
        {
          "output_type": "stream",
          "name": "stderr",
          "text": [
            "INFO:train:test_auc_score: 0.8744\n"
          ]
        },
        {
          "output_type": "stream",
          "name": "stdout",
          "text": [
            "starting epoch:  86\n",
            "Train Epoch: 86, train-auc-score: 0.9345\n"
          ]
        },
        {
          "output_type": "stream",
          "name": "stderr",
          "text": [
            "INFO:train:Train Epoch: 86, train-auc-score: 0.9345\n"
          ]
        },
        {
          "output_type": "stream",
          "name": "stdout",
          "text": [
            "test_auc_score: 0.8680\n"
          ]
        },
        {
          "output_type": "stream",
          "name": "stderr",
          "text": [
            "INFO:train:test_auc_score: 0.8680\n"
          ]
        },
        {
          "output_type": "stream",
          "name": "stdout",
          "text": [
            "starting epoch:  87\n",
            "Train Epoch: 87, train-auc-score: 0.9286\n"
          ]
        },
        {
          "output_type": "stream",
          "name": "stderr",
          "text": [
            "INFO:train:Train Epoch: 87, train-auc-score: 0.9286\n"
          ]
        },
        {
          "output_type": "stream",
          "name": "stdout",
          "text": [
            "test_auc_score: 0.8654\n"
          ]
        },
        {
          "output_type": "stream",
          "name": "stderr",
          "text": [
            "INFO:train:test_auc_score: 0.8654\n"
          ]
        },
        {
          "output_type": "stream",
          "name": "stdout",
          "text": [
            "starting epoch:  88\n",
            "Train Epoch: 88, train-auc-score: 0.9413\n"
          ]
        },
        {
          "output_type": "stream",
          "name": "stderr",
          "text": [
            "INFO:train:Train Epoch: 88, train-auc-score: 0.9413\n"
          ]
        },
        {
          "output_type": "stream",
          "name": "stdout",
          "text": [
            "test_auc_score: 0.8720\n"
          ]
        },
        {
          "output_type": "stream",
          "name": "stderr",
          "text": [
            "INFO:train:test_auc_score: 0.8720\n"
          ]
        },
        {
          "output_type": "stream",
          "name": "stdout",
          "text": [
            "starting epoch:  89\n",
            "Train Epoch: 89, train-auc-score: 0.9258\n"
          ]
        },
        {
          "output_type": "stream",
          "name": "stderr",
          "text": [
            "INFO:train:Train Epoch: 89, train-auc-score: 0.9258\n"
          ]
        },
        {
          "output_type": "stream",
          "name": "stdout",
          "text": [
            "test_auc_score: 0.8781\n"
          ]
        },
        {
          "output_type": "stream",
          "name": "stderr",
          "text": [
            "INFO:train:test_auc_score: 0.8781\n"
          ]
        },
        {
          "output_type": "stream",
          "name": "stdout",
          "text": [
            "starting epoch:  90\n",
            "Train Epoch: 90, train-auc-score: 0.9311\n"
          ]
        },
        {
          "output_type": "stream",
          "name": "stderr",
          "text": [
            "INFO:train:Train Epoch: 90, train-auc-score: 0.9311\n"
          ]
        },
        {
          "output_type": "stream",
          "name": "stdout",
          "text": [
            "test_auc_score: 0.8732\n"
          ]
        },
        {
          "output_type": "stream",
          "name": "stderr",
          "text": [
            "INFO:train:test_auc_score: 0.8732\n"
          ]
        },
        {
          "output_type": "stream",
          "name": "stdout",
          "text": [
            "starting epoch:  91\n",
            "Train Epoch: 91, train-auc-score: 0.9340\n"
          ]
        },
        {
          "output_type": "stream",
          "name": "stderr",
          "text": [
            "INFO:train:Train Epoch: 91, train-auc-score: 0.9340\n"
          ]
        },
        {
          "output_type": "stream",
          "name": "stdout",
          "text": [
            "test_auc_score: 0.8803\n"
          ]
        },
        {
          "output_type": "stream",
          "name": "stderr",
          "text": [
            "INFO:train:test_auc_score: 0.8803\n"
          ]
        },
        {
          "output_type": "stream",
          "name": "stdout",
          "text": [
            "starting epoch:  92\n",
            "Train Epoch: 92, train-auc-score: 0.9248\n"
          ]
        },
        {
          "output_type": "stream",
          "name": "stderr",
          "text": [
            "INFO:train:Train Epoch: 92, train-auc-score: 0.9248\n"
          ]
        },
        {
          "output_type": "stream",
          "name": "stdout",
          "text": [
            "test_auc_score: 0.8634\n"
          ]
        },
        {
          "output_type": "stream",
          "name": "stderr",
          "text": [
            "INFO:train:test_auc_score: 0.8634\n"
          ]
        },
        {
          "output_type": "stream",
          "name": "stdout",
          "text": [
            "starting epoch:  93\n",
            "Train Epoch: 93, train-auc-score: 0.9335\n"
          ]
        },
        {
          "output_type": "stream",
          "name": "stderr",
          "text": [
            "INFO:train:Train Epoch: 93, train-auc-score: 0.9335\n"
          ]
        },
        {
          "output_type": "stream",
          "name": "stdout",
          "text": [
            "test_auc_score: 0.8595\n"
          ]
        },
        {
          "output_type": "stream",
          "name": "stderr",
          "text": [
            "INFO:train:test_auc_score: 0.8595\n"
          ]
        },
        {
          "output_type": "stream",
          "name": "stdout",
          "text": [
            "starting epoch:  94\n",
            "Train Epoch: 94, train-auc-score: 0.9349\n"
          ]
        },
        {
          "output_type": "stream",
          "name": "stderr",
          "text": [
            "INFO:train:Train Epoch: 94, train-auc-score: 0.9349\n"
          ]
        },
        {
          "output_type": "stream",
          "name": "stdout",
          "text": [
            "test_auc_score: 0.8596\n"
          ]
        },
        {
          "output_type": "stream",
          "name": "stderr",
          "text": [
            "INFO:train:test_auc_score: 0.8596\n"
          ]
        },
        {
          "output_type": "stream",
          "name": "stdout",
          "text": [
            "starting epoch:  95\n",
            "Train Epoch: 95, train-auc-score: 0.9330\n"
          ]
        },
        {
          "output_type": "stream",
          "name": "stderr",
          "text": [
            "INFO:train:Train Epoch: 95, train-auc-score: 0.9330\n"
          ]
        },
        {
          "output_type": "stream",
          "name": "stdout",
          "text": [
            "test_auc_score: 0.8657\n"
          ]
        },
        {
          "output_type": "stream",
          "name": "stderr",
          "text": [
            "INFO:train:test_auc_score: 0.8657\n"
          ]
        },
        {
          "output_type": "stream",
          "name": "stdout",
          "text": [
            "starting epoch:  96\n",
            "Train Epoch: 96, train-auc-score: 0.9332\n"
          ]
        },
        {
          "output_type": "stream",
          "name": "stderr",
          "text": [
            "INFO:train:Train Epoch: 96, train-auc-score: 0.9332\n"
          ]
        },
        {
          "output_type": "stream",
          "name": "stdout",
          "text": [
            "test_auc_score: 0.8594\n"
          ]
        },
        {
          "output_type": "stream",
          "name": "stderr",
          "text": [
            "INFO:train:test_auc_score: 0.8594\n"
          ]
        },
        {
          "output_type": "stream",
          "name": "stdout",
          "text": [
            "starting epoch:  97\n",
            "Train Epoch: 97, train-auc-score: 0.9314\n"
          ]
        },
        {
          "output_type": "stream",
          "name": "stderr",
          "text": [
            "INFO:train:Train Epoch: 97, train-auc-score: 0.9314\n"
          ]
        },
        {
          "output_type": "stream",
          "name": "stdout",
          "text": [
            "test_auc_score: 0.8610\n"
          ]
        },
        {
          "output_type": "stream",
          "name": "stderr",
          "text": [
            "INFO:train:test_auc_score: 0.8610\n"
          ]
        },
        {
          "output_type": "stream",
          "name": "stdout",
          "text": [
            "starting epoch:  98\n",
            "Train Epoch: 98, train-auc-score: 0.9326\n"
          ]
        },
        {
          "output_type": "stream",
          "name": "stderr",
          "text": [
            "INFO:train:Train Epoch: 98, train-auc-score: 0.9326\n"
          ]
        },
        {
          "output_type": "stream",
          "name": "stdout",
          "text": [
            "test_auc_score: 0.8596\n"
          ]
        },
        {
          "output_type": "stream",
          "name": "stderr",
          "text": [
            "INFO:train:test_auc_score: 0.8596\n"
          ]
        },
        {
          "output_type": "stream",
          "name": "stdout",
          "text": [
            "starting epoch:  99\n",
            "Train Epoch: 99, train-auc-score: 0.9340\n"
          ]
        },
        {
          "output_type": "stream",
          "name": "stderr",
          "text": [
            "INFO:train:Train Epoch: 99, train-auc-score: 0.9340\n"
          ]
        },
        {
          "output_type": "stream",
          "name": "stdout",
          "text": [
            "test_auc_score: 0.8654\n"
          ]
        },
        {
          "output_type": "stream",
          "name": "stderr",
          "text": [
            "INFO:train:test_auc_score: 0.8654\n"
          ]
        },
        {
          "output_type": "stream",
          "name": "stdout",
          "text": [
            "starting epoch:  100\n",
            "Train Epoch: 100, train-auc-score: 0.9351\n"
          ]
        },
        {
          "output_type": "stream",
          "name": "stderr",
          "text": [
            "INFO:train:Train Epoch: 100, train-auc-score: 0.9351\n"
          ]
        },
        {
          "output_type": "stream",
          "name": "stdout",
          "text": [
            "test_auc_score: 0.8687\n"
          ]
        },
        {
          "output_type": "stream",
          "name": "stderr",
          "text": [
            "INFO:train:test_auc_score: 0.8687\n"
          ]
        },
        {
          "output_type": "stream",
          "name": "stdout",
          "text": [
            "saving scores\n",
            "saving model\n"
          ]
        }
      ],
      "source": [
        "train.train(\n",
        "    X=X_train,\n",
        "    y=y_train,\n",
        "    X_test=X_test,\n",
        "    y_test=y_test,\n",
        "    params = params_google\n",
        ")"
      ]
    },
    {
      "cell_type": "code",
      "execution_count": 15,
      "metadata": {
        "id": "NolAJt8Z56OQ"
      },
      "outputs": [],
      "source": [
        "scores_df = pd.read_csv(Path(model_dir, 'training_scores.csv'))"
      ]
    },
    {
      "cell_type": "code",
      "execution_count": 16,
      "metadata": {
        "colab": {
          "base_uri": "https://localhost:8080/",
          "height": 424
        },
        "id": "QBejn59T56Lk",
        "outputId": "b5f7e078-1384-4b94-92b3-f5c89bcfc361"
      },
      "outputs": [
        {
          "output_type": "execute_result",
          "data": {
            "text/plain": [
              "    train_scores  test_scores\n",
              "0       0.733888     0.789953\n",
              "1       0.764266     0.815765\n",
              "2       0.773872     0.818987\n",
              "3       0.810547     0.820284\n",
              "4       0.826417     0.806803\n",
              "..           ...          ...\n",
              "95      0.933184     0.859436\n",
              "96      0.931364     0.861040\n",
              "97      0.932634     0.859610\n",
              "98      0.934003     0.865408\n",
              "99      0.935129     0.868700\n",
              "\n",
              "[100 rows x 2 columns]"
            ],
            "text/html": [
              "\n",
              "  <div id=\"df-89a12db5-6e23-41dd-98fd-32b88733541a\">\n",
              "    <div class=\"colab-df-container\">\n",
              "      <div>\n",
              "<style scoped>\n",
              "    .dataframe tbody tr th:only-of-type {\n",
              "        vertical-align: middle;\n",
              "    }\n",
              "\n",
              "    .dataframe tbody tr th {\n",
              "        vertical-align: top;\n",
              "    }\n",
              "\n",
              "    .dataframe thead th {\n",
              "        text-align: right;\n",
              "    }\n",
              "</style>\n",
              "<table border=\"1\" class=\"dataframe\">\n",
              "  <thead>\n",
              "    <tr style=\"text-align: right;\">\n",
              "      <th></th>\n",
              "      <th>train_scores</th>\n",
              "      <th>test_scores</th>\n",
              "    </tr>\n",
              "  </thead>\n",
              "  <tbody>\n",
              "    <tr>\n",
              "      <th>0</th>\n",
              "      <td>0.733888</td>\n",
              "      <td>0.789953</td>\n",
              "    </tr>\n",
              "    <tr>\n",
              "      <th>1</th>\n",
              "      <td>0.764266</td>\n",
              "      <td>0.815765</td>\n",
              "    </tr>\n",
              "    <tr>\n",
              "      <th>2</th>\n",
              "      <td>0.773872</td>\n",
              "      <td>0.818987</td>\n",
              "    </tr>\n",
              "    <tr>\n",
              "      <th>3</th>\n",
              "      <td>0.810547</td>\n",
              "      <td>0.820284</td>\n",
              "    </tr>\n",
              "    <tr>\n",
              "      <th>4</th>\n",
              "      <td>0.826417</td>\n",
              "      <td>0.806803</td>\n",
              "    </tr>\n",
              "    <tr>\n",
              "      <th>...</th>\n",
              "      <td>...</td>\n",
              "      <td>...</td>\n",
              "    </tr>\n",
              "    <tr>\n",
              "      <th>95</th>\n",
              "      <td>0.933184</td>\n",
              "      <td>0.859436</td>\n",
              "    </tr>\n",
              "    <tr>\n",
              "      <th>96</th>\n",
              "      <td>0.931364</td>\n",
              "      <td>0.861040</td>\n",
              "    </tr>\n",
              "    <tr>\n",
              "      <th>97</th>\n",
              "      <td>0.932634</td>\n",
              "      <td>0.859610</td>\n",
              "    </tr>\n",
              "    <tr>\n",
              "      <th>98</th>\n",
              "      <td>0.934003</td>\n",
              "      <td>0.865408</td>\n",
              "    </tr>\n",
              "    <tr>\n",
              "      <th>99</th>\n",
              "      <td>0.935129</td>\n",
              "      <td>0.868700</td>\n",
              "    </tr>\n",
              "  </tbody>\n",
              "</table>\n",
              "<p>100 rows × 2 columns</p>\n",
              "</div>\n",
              "      <button class=\"colab-df-convert\" onclick=\"convertToInteractive('df-89a12db5-6e23-41dd-98fd-32b88733541a')\"\n",
              "              title=\"Convert this dataframe to an interactive table.\"\n",
              "              style=\"display:none;\">\n",
              "        \n",
              "  <svg xmlns=\"http://www.w3.org/2000/svg\" height=\"24px\"viewBox=\"0 0 24 24\"\n",
              "       width=\"24px\">\n",
              "    <path d=\"M0 0h24v24H0V0z\" fill=\"none\"/>\n",
              "    <path d=\"M18.56 5.44l.94 2.06.94-2.06 2.06-.94-2.06-.94-.94-2.06-.94 2.06-2.06.94zm-11 1L8.5 8.5l.94-2.06 2.06-.94-2.06-.94L8.5 2.5l-.94 2.06-2.06.94zm10 10l.94 2.06.94-2.06 2.06-.94-2.06-.94-.94-2.06-.94 2.06-2.06.94z\"/><path d=\"M17.41 7.96l-1.37-1.37c-.4-.4-.92-.59-1.43-.59-.52 0-1.04.2-1.43.59L10.3 9.45l-7.72 7.72c-.78.78-.78 2.05 0 2.83L4 21.41c.39.39.9.59 1.41.59.51 0 1.02-.2 1.41-.59l7.78-7.78 2.81-2.81c.8-.78.8-2.07 0-2.86zM5.41 20L4 18.59l7.72-7.72 1.47 1.35L5.41 20z\"/>\n",
              "  </svg>\n",
              "      </button>\n",
              "      \n",
              "  <style>\n",
              "    .colab-df-container {\n",
              "      display:flex;\n",
              "      flex-wrap:wrap;\n",
              "      gap: 12px;\n",
              "    }\n",
              "\n",
              "    .colab-df-convert {\n",
              "      background-color: #E8F0FE;\n",
              "      border: none;\n",
              "      border-radius: 50%;\n",
              "      cursor: pointer;\n",
              "      display: none;\n",
              "      fill: #1967D2;\n",
              "      height: 32px;\n",
              "      padding: 0 0 0 0;\n",
              "      width: 32px;\n",
              "    }\n",
              "\n",
              "    .colab-df-convert:hover {\n",
              "      background-color: #E2EBFA;\n",
              "      box-shadow: 0px 1px 2px rgba(60, 64, 67, 0.3), 0px 1px 3px 1px rgba(60, 64, 67, 0.15);\n",
              "      fill: #174EA6;\n",
              "    }\n",
              "\n",
              "    [theme=dark] .colab-df-convert {\n",
              "      background-color: #3B4455;\n",
              "      fill: #D2E3FC;\n",
              "    }\n",
              "\n",
              "    [theme=dark] .colab-df-convert:hover {\n",
              "      background-color: #434B5C;\n",
              "      box-shadow: 0px 1px 3px 1px rgba(0, 0, 0, 0.15);\n",
              "      filter: drop-shadow(0px 1px 2px rgba(0, 0, 0, 0.3));\n",
              "      fill: #FFFFFF;\n",
              "    }\n",
              "  </style>\n",
              "\n",
              "      <script>\n",
              "        const buttonEl =\n",
              "          document.querySelector('#df-89a12db5-6e23-41dd-98fd-32b88733541a button.colab-df-convert');\n",
              "        buttonEl.style.display =\n",
              "          google.colab.kernel.accessAllowed ? 'block' : 'none';\n",
              "\n",
              "        async function convertToInteractive(key) {\n",
              "          const element = document.querySelector('#df-89a12db5-6e23-41dd-98fd-32b88733541a');\n",
              "          const dataTable =\n",
              "            await google.colab.kernel.invokeFunction('convertToInteractive',\n",
              "                                                     [key], {});\n",
              "          if (!dataTable) return;\n",
              "\n",
              "          const docLinkHtml = 'Like what you see? Visit the ' +\n",
              "            '<a target=\"_blank\" href=https://colab.research.google.com/notebooks/data_table.ipynb>data table notebook</a>'\n",
              "            + ' to learn more about interactive tables.';\n",
              "          element.innerHTML = '';\n",
              "          dataTable['output_type'] = 'display_data';\n",
              "          await google.colab.output.renderOutput(dataTable, element);\n",
              "          const docLink = document.createElement('div');\n",
              "          docLink.innerHTML = docLinkHtml;\n",
              "          element.appendChild(docLink);\n",
              "        }\n",
              "      </script>\n",
              "    </div>\n",
              "  </div>\n",
              "  "
            ]
          },
          "metadata": {},
          "execution_count": 16
        }
      ],
      "source": [
        "scores_df"
      ]
    },
    {
      "cell_type": "code",
      "source": [
        "plot_train_stats(params_google)"
      ],
      "metadata": {
        "colab": {
          "base_uri": "https://localhost:8080/",
          "height": 295
        },
        "id": "ENfca7ON6S55",
        "outputId": "0f3dc9e2-ee63-4c04-e4b7-d2462d9f56de"
      },
      "execution_count": 20,
      "outputs": [
        {
          "output_type": "display_data",
          "data": {
            "text/plain": [
              "<Figure size 432x288 with 1 Axes>"
            ],
            "image/png": "[encoded data removed]"
          },
          "metadata": {
            "needs_background": "light"
          }
        }
      ]
    },
    {
      "cell_type": "markdown",
      "metadata": {
        "id": "d_uWlyDvtAst"
      },
      "source": [
        "# Deepl tlumaczenie"
      ]
    },
    {
      "cell_type": "code",
      "execution_count": 21,
      "metadata": {
        "colab": {
          "base_uri": "https://localhost:8080/"
        },
        "id": "ygIAZMH_NCJG",
        "outputId": "9aabdf0b-ab51-4d40-b3d7-866fa665155e"
      },
      "outputs": [
        {
          "output_type": "stream",
          "name": "stdout",
          "text": [
            "Using already prepared data.\n"
          ]
        },
        {
          "output_type": "execute_result",
          "data": {
            "text/plain": [
              "((2233, 841), (1100, 841), (2233, 1), (1100, 1))"
            ]
          },
          "metadata": {},
          "execution_count": 21
        }
      ],
      "source": [
        "data_dir = params_deepl['data_dir']\n",
        "model_dir = params_deepl['model_dir']\n",
        "df_deepl = pd.read_csv(Path(data_dir, \"churn_dataset_deepl.csv\"))\n",
        "X_train, X_test, y_train, y_test = main_transformation(df_deepl, params_deepl['model_dir'], use_existing=True, test_size=0.33)\n",
        "X_train.shape, X_test.shape, y_train.shape, y_test.shape"
      ]
    },
    {
      "cell_type": "code",
      "execution_count": 23,
      "metadata": {
        "colab": {
          "base_uri": "https://localhost:8080/"
        },
        "id": "7ihrKDxK56BX",
        "outputId": "8f520b1d-64b6-4e5a-b395-ada90f1a71bd"
      },
      "outputs": [
        {
          "output_type": "stream",
          "name": "stdout",
          "text": [
            "starting epoch:  1\n",
            "Train Epoch: 1, train-auc-score: 0.5978\n"
          ]
        },
        {
          "output_type": "stream",
          "name": "stderr",
          "text": [
            "INFO:train:Train Epoch: 1, train-auc-score: 0.5978\n"
          ]
        },
        {
          "output_type": "stream",
          "name": "stdout",
          "text": [
            "test_auc_score: 0.6286\n"
          ]
        },
        {
          "output_type": "stream",
          "name": "stderr",
          "text": [
            "INFO:train:test_auc_score: 0.6286\n"
          ]
        },
        {
          "output_type": "stream",
          "name": "stdout",
          "text": [
            "starting epoch:  2\n",
            "Train Epoch: 2, train-auc-score: 0.6109\n"
          ]
        },
        {
          "output_type": "stream",
          "name": "stderr",
          "text": [
            "INFO:train:Train Epoch: 2, train-auc-score: 0.6109\n"
          ]
        },
        {
          "output_type": "stream",
          "name": "stdout",
          "text": [
            "test_auc_score: 0.6318\n"
          ]
        },
        {
          "output_type": "stream",
          "name": "stderr",
          "text": [
            "INFO:train:test_auc_score: 0.6318\n"
          ]
        },
        {
          "output_type": "stream",
          "name": "stdout",
          "text": [
            "starting epoch:  3\n",
            "Train Epoch: 3, train-auc-score: 0.6215\n"
          ]
        },
        {
          "output_type": "stream",
          "name": "stderr",
          "text": [
            "INFO:train:Train Epoch: 3, train-auc-score: 0.6215\n"
          ]
        },
        {
          "output_type": "stream",
          "name": "stdout",
          "text": [
            "test_auc_score: 0.6642\n"
          ]
        },
        {
          "output_type": "stream",
          "name": "stderr",
          "text": [
            "INFO:train:test_auc_score: 0.6642\n"
          ]
        },
        {
          "output_type": "stream",
          "name": "stdout",
          "text": [
            "starting epoch:  4\n",
            "Train Epoch: 4, train-auc-score: 0.6353\n"
          ]
        },
        {
          "output_type": "stream",
          "name": "stderr",
          "text": [
            "INFO:train:Train Epoch: 4, train-auc-score: 0.6353\n"
          ]
        },
        {
          "output_type": "stream",
          "name": "stdout",
          "text": [
            "test_auc_score: 0.6585\n"
          ]
        },
        {
          "output_type": "stream",
          "name": "stderr",
          "text": [
            "INFO:train:test_auc_score: 0.6585\n"
          ]
        },
        {
          "output_type": "stream",
          "name": "stdout",
          "text": [
            "starting epoch:  5\n",
            "Train Epoch: 5, train-auc-score: 0.6546\n"
          ]
        },
        {
          "output_type": "stream",
          "name": "stderr",
          "text": [
            "INFO:train:Train Epoch: 5, train-auc-score: 0.6546\n"
          ]
        },
        {
          "output_type": "stream",
          "name": "stdout",
          "text": [
            "test_auc_score: 0.6828\n"
          ]
        },
        {
          "output_type": "stream",
          "name": "stderr",
          "text": [
            "INFO:train:test_auc_score: 0.6828\n"
          ]
        },
        {
          "output_type": "stream",
          "name": "stdout",
          "text": [
            "starting epoch:  6\n",
            "Train Epoch: 6, train-auc-score: 0.6412\n"
          ]
        },
        {
          "output_type": "stream",
          "name": "stderr",
          "text": [
            "INFO:train:Train Epoch: 6, train-auc-score: 0.6412\n"
          ]
        },
        {
          "output_type": "stream",
          "name": "stdout",
          "text": [
            "test_auc_score: 0.6692\n"
          ]
        },
        {
          "output_type": "stream",
          "name": "stderr",
          "text": [
            "INFO:train:test_auc_score: 0.6692\n"
          ]
        },
        {
          "output_type": "stream",
          "name": "stdout",
          "text": [
            "starting epoch:  7\n",
            "Train Epoch: 7, train-auc-score: 0.6748\n"
          ]
        },
        {
          "output_type": "stream",
          "name": "stderr",
          "text": [
            "INFO:train:Train Epoch: 7, train-auc-score: 0.6748\n"
          ]
        },
        {
          "output_type": "stream",
          "name": "stdout",
          "text": [
            "test_auc_score: 0.6943\n"
          ]
        },
        {
          "output_type": "stream",
          "name": "stderr",
          "text": [
            "INFO:train:test_auc_score: 0.6943\n"
          ]
        },
        {
          "output_type": "stream",
          "name": "stdout",
          "text": [
            "starting epoch:  8\n",
            "Train Epoch: 8, train-auc-score: 0.6692\n"
          ]
        },
        {
          "output_type": "stream",
          "name": "stderr",
          "text": [
            "INFO:train:Train Epoch: 8, train-auc-score: 0.6692\n"
          ]
        },
        {
          "output_type": "stream",
          "name": "stdout",
          "text": [
            "test_auc_score: 0.6976\n"
          ]
        },
        {
          "output_type": "stream",
          "name": "stderr",
          "text": [
            "INFO:train:test_auc_score: 0.6976\n"
          ]
        },
        {
          "output_type": "stream",
          "name": "stdout",
          "text": [
            "starting epoch:  9\n",
            "Train Epoch: 9, train-auc-score: 0.6447\n"
          ]
        },
        {
          "output_type": "stream",
          "name": "stderr",
          "text": [
            "INFO:train:Train Epoch: 9, train-auc-score: 0.6447\n"
          ]
        },
        {
          "output_type": "stream",
          "name": "stdout",
          "text": [
            "test_auc_score: 0.6592\n"
          ]
        },
        {
          "output_type": "stream",
          "name": "stderr",
          "text": [
            "INFO:train:test_auc_score: 0.6592\n"
          ]
        },
        {
          "output_type": "stream",
          "name": "stdout",
          "text": [
            "starting epoch:  10\n",
            "Train Epoch: 10, train-auc-score: 0.6997\n"
          ]
        },
        {
          "output_type": "stream",
          "name": "stderr",
          "text": [
            "INFO:train:Train Epoch: 10, train-auc-score: 0.6997\n"
          ]
        },
        {
          "output_type": "stream",
          "name": "stdout",
          "text": [
            "test_auc_score: 0.7009\n"
          ]
        },
        {
          "output_type": "stream",
          "name": "stderr",
          "text": [
            "INFO:train:test_auc_score: 0.7009\n"
          ]
        },
        {
          "output_type": "stream",
          "name": "stdout",
          "text": [
            "starting epoch:  11\n",
            "Train Epoch: 11, train-auc-score: 0.7504\n"
          ]
        },
        {
          "output_type": "stream",
          "name": "stderr",
          "text": [
            "INFO:train:Train Epoch: 11, train-auc-score: 0.7504\n"
          ]
        },
        {
          "output_type": "stream",
          "name": "stdout",
          "text": [
            "test_auc_score: 0.7690\n"
          ]
        },
        {
          "output_type": "stream",
          "name": "stderr",
          "text": [
            "INFO:train:test_auc_score: 0.7690\n"
          ]
        },
        {
          "output_type": "stream",
          "name": "stdout",
          "text": [
            "starting epoch:  12\n",
            "Train Epoch: 12, train-auc-score: 0.7749\n"
          ]
        },
        {
          "output_type": "stream",
          "name": "stderr",
          "text": [
            "INFO:train:Train Epoch: 12, train-auc-score: 0.7749\n"
          ]
        },
        {
          "output_type": "stream",
          "name": "stdout",
          "text": [
            "test_auc_score: 0.7804\n"
          ]
        },
        {
          "output_type": "stream",
          "name": "stderr",
          "text": [
            "INFO:train:test_auc_score: 0.7804\n"
          ]
        },
        {
          "output_type": "stream",
          "name": "stdout",
          "text": [
            "starting epoch:  13\n",
            "Train Epoch: 13, train-auc-score: 0.7820\n"
          ]
        },
        {
          "output_type": "stream",
          "name": "stderr",
          "text": [
            "INFO:train:Train Epoch: 13, train-auc-score: 0.7820\n"
          ]
        },
        {
          "output_type": "stream",
          "name": "stdout",
          "text": [
            "test_auc_score: 0.7936\n"
          ]
        },
        {
          "output_type": "stream",
          "name": "stderr",
          "text": [
            "INFO:train:test_auc_score: 0.7936\n"
          ]
        },
        {
          "output_type": "stream",
          "name": "stdout",
          "text": [
            "starting epoch:  14\n",
            "Train Epoch: 14, train-auc-score: 0.7928\n"
          ]
        },
        {
          "output_type": "stream",
          "name": "stderr",
          "text": [
            "INFO:train:Train Epoch: 14, train-auc-score: 0.7928\n"
          ]
        },
        {
          "output_type": "stream",
          "name": "stdout",
          "text": [
            "test_auc_score: 0.8022\n"
          ]
        },
        {
          "output_type": "stream",
          "name": "stderr",
          "text": [
            "INFO:train:test_auc_score: 0.8022\n"
          ]
        },
        {
          "output_type": "stream",
          "name": "stdout",
          "text": [
            "starting epoch:  15\n",
            "Train Epoch: 15, train-auc-score: 0.7945\n"
          ]
        },
        {
          "output_type": "stream",
          "name": "stderr",
          "text": [
            "INFO:train:Train Epoch: 15, train-auc-score: 0.7945\n"
          ]
        },
        {
          "output_type": "stream",
          "name": "stdout",
          "text": [
            "test_auc_score: 0.8077\n"
          ]
        },
        {
          "output_type": "stream",
          "name": "stderr",
          "text": [
            "INFO:train:test_auc_score: 0.8077\n"
          ]
        },
        {
          "output_type": "stream",
          "name": "stdout",
          "text": [
            "starting epoch:  16\n",
            "Train Epoch: 16, train-auc-score: 0.8117\n"
          ]
        },
        {
          "output_type": "stream",
          "name": "stderr",
          "text": [
            "INFO:train:Train Epoch: 16, train-auc-score: 0.8117\n"
          ]
        },
        {
          "output_type": "stream",
          "name": "stdout",
          "text": [
            "test_auc_score: 0.8123\n"
          ]
        },
        {
          "output_type": "stream",
          "name": "stderr",
          "text": [
            "INFO:train:test_auc_score: 0.8123\n"
          ]
        },
        {
          "output_type": "stream",
          "name": "stdout",
          "text": [
            "starting epoch:  17\n",
            "Train Epoch: 17, train-auc-score: 0.8181\n"
          ]
        },
        {
          "output_type": "stream",
          "name": "stderr",
          "text": [
            "INFO:train:Train Epoch: 17, train-auc-score: 0.8181\n"
          ]
        },
        {
          "output_type": "stream",
          "name": "stdout",
          "text": [
            "test_auc_score: 0.8192\n"
          ]
        },
        {
          "output_type": "stream",
          "name": "stderr",
          "text": [
            "INFO:train:test_auc_score: 0.8192\n"
          ]
        },
        {
          "output_type": "stream",
          "name": "stdout",
          "text": [
            "starting epoch:  18\n",
            "Train Epoch: 18, train-auc-score: 0.8318\n"
          ]
        },
        {
          "output_type": "stream",
          "name": "stderr",
          "text": [
            "INFO:train:Train Epoch: 18, train-auc-score: 0.8318\n"
          ]
        },
        {
          "output_type": "stream",
          "name": "stdout",
          "text": [
            "test_auc_score: 0.8362\n"
          ]
        },
        {
          "output_type": "stream",
          "name": "stderr",
          "text": [
            "INFO:train:test_auc_score: 0.8362\n"
          ]
        },
        {
          "output_type": "stream",
          "name": "stdout",
          "text": [
            "starting epoch:  19\n",
            "Train Epoch: 19, train-auc-score: 0.8421\n"
          ]
        },
        {
          "output_type": "stream",
          "name": "stderr",
          "text": [
            "INFO:train:Train Epoch: 19, train-auc-score: 0.8421\n"
          ]
        },
        {
          "output_type": "stream",
          "name": "stdout",
          "text": [
            "test_auc_score: 0.8299\n"
          ]
        },
        {
          "output_type": "stream",
          "name": "stderr",
          "text": [
            "INFO:train:test_auc_score: 0.8299\n"
          ]
        },
        {
          "output_type": "stream",
          "name": "stdout",
          "text": [
            "starting epoch:  20\n",
            "Train Epoch: 20, train-auc-score: 0.8451\n"
          ]
        },
        {
          "output_type": "stream",
          "name": "stderr",
          "text": [
            "INFO:train:Train Epoch: 20, train-auc-score: 0.8451\n"
          ]
        },
        {
          "output_type": "stream",
          "name": "stdout",
          "text": [
            "test_auc_score: 0.8393\n"
          ]
        },
        {
          "output_type": "stream",
          "name": "stderr",
          "text": [
            "INFO:train:test_auc_score: 0.8393\n"
          ]
        },
        {
          "output_type": "stream",
          "name": "stdout",
          "text": [
            "starting epoch:  21\n",
            "Train Epoch: 21, train-auc-score: 0.8507\n"
          ]
        },
        {
          "output_type": "stream",
          "name": "stderr",
          "text": [
            "INFO:train:Train Epoch: 21, train-auc-score: 0.8507\n"
          ]
        },
        {
          "output_type": "stream",
          "name": "stdout",
          "text": [
            "test_auc_score: 0.8450\n"
          ]
        },
        {
          "output_type": "stream",
          "name": "stderr",
          "text": [
            "INFO:train:test_auc_score: 0.8450\n"
          ]
        },
        {
          "output_type": "stream",
          "name": "stdout",
          "text": [
            "starting epoch:  22\n",
            "Train Epoch: 22, train-auc-score: 0.8626\n"
          ]
        },
        {
          "output_type": "stream",
          "name": "stderr",
          "text": [
            "INFO:train:Train Epoch: 22, train-auc-score: 0.8626\n"
          ]
        },
        {
          "output_type": "stream",
          "name": "stdout",
          "text": [
            "test_auc_score: 0.8521\n"
          ]
        },
        {
          "output_type": "stream",
          "name": "stderr",
          "text": [
            "INFO:train:test_auc_score: 0.8521\n"
          ]
        },
        {
          "output_type": "stream",
          "name": "stdout",
          "text": [
            "starting epoch:  23\n",
            "Train Epoch: 23, train-auc-score: 0.8658\n"
          ]
        },
        {
          "output_type": "stream",
          "name": "stderr",
          "text": [
            "INFO:train:Train Epoch: 23, train-auc-score: 0.8658\n"
          ]
        },
        {
          "output_type": "stream",
          "name": "stdout",
          "text": [
            "test_auc_score: 0.8475\n"
          ]
        },
        {
          "output_type": "stream",
          "name": "stderr",
          "text": [
            "INFO:train:test_auc_score: 0.8475\n"
          ]
        },
        {
          "output_type": "stream",
          "name": "stdout",
          "text": [
            "starting epoch:  24\n",
            "Train Epoch: 24, train-auc-score: 0.8697\n"
          ]
        },
        {
          "output_type": "stream",
          "name": "stderr",
          "text": [
            "INFO:train:Train Epoch: 24, train-auc-score: 0.8697\n"
          ]
        },
        {
          "output_type": "stream",
          "name": "stdout",
          "text": [
            "test_auc_score: 0.8524\n"
          ]
        },
        {
          "output_type": "stream",
          "name": "stderr",
          "text": [
            "INFO:train:test_auc_score: 0.8524\n"
          ]
        },
        {
          "output_type": "stream",
          "name": "stdout",
          "text": [
            "starting epoch:  25\n",
            "Train Epoch: 25, train-auc-score: 0.8694\n"
          ]
        },
        {
          "output_type": "stream",
          "name": "stderr",
          "text": [
            "INFO:train:Train Epoch: 25, train-auc-score: 0.8694\n"
          ]
        },
        {
          "output_type": "stream",
          "name": "stdout",
          "text": [
            "test_auc_score: 0.8505\n"
          ]
        },
        {
          "output_type": "stream",
          "name": "stderr",
          "text": [
            "INFO:train:test_auc_score: 0.8505\n"
          ]
        },
        {
          "output_type": "stream",
          "name": "stdout",
          "text": [
            "starting epoch:  26\n",
            "Train Epoch: 26, train-auc-score: 0.8817\n"
          ]
        },
        {
          "output_type": "stream",
          "name": "stderr",
          "text": [
            "INFO:train:Train Epoch: 26, train-auc-score: 0.8817\n"
          ]
        },
        {
          "output_type": "stream",
          "name": "stdout",
          "text": [
            "test_auc_score: 0.8653\n"
          ]
        },
        {
          "output_type": "stream",
          "name": "stderr",
          "text": [
            "INFO:train:test_auc_score: 0.8653\n"
          ]
        },
        {
          "output_type": "stream",
          "name": "stdout",
          "text": [
            "starting epoch:  27\n",
            "Train Epoch: 27, train-auc-score: 0.8756\n"
          ]
        },
        {
          "output_type": "stream",
          "name": "stderr",
          "text": [
            "INFO:train:Train Epoch: 27, train-auc-score: 0.8756\n"
          ]
        },
        {
          "output_type": "stream",
          "name": "stdout",
          "text": [
            "test_auc_score: 0.8577\n"
          ]
        },
        {
          "output_type": "stream",
          "name": "stderr",
          "text": [
            "INFO:train:test_auc_score: 0.8577\n"
          ]
        },
        {
          "output_type": "stream",
          "name": "stdout",
          "text": [
            "starting epoch:  28\n",
            "Train Epoch: 28, train-auc-score: 0.8886\n"
          ]
        },
        {
          "output_type": "stream",
          "name": "stderr",
          "text": [
            "INFO:train:Train Epoch: 28, train-auc-score: 0.8886\n"
          ]
        },
        {
          "output_type": "stream",
          "name": "stdout",
          "text": [
            "test_auc_score: 0.8657\n"
          ]
        },
        {
          "output_type": "stream",
          "name": "stderr",
          "text": [
            "INFO:train:test_auc_score: 0.8657\n"
          ]
        },
        {
          "output_type": "stream",
          "name": "stdout",
          "text": [
            "starting epoch:  29\n",
            "Train Epoch: 29, train-auc-score: 0.8796\n"
          ]
        },
        {
          "output_type": "stream",
          "name": "stderr",
          "text": [
            "INFO:train:Train Epoch: 29, train-auc-score: 0.8796\n"
          ]
        },
        {
          "output_type": "stream",
          "name": "stdout",
          "text": [
            "test_auc_score: 0.8622\n"
          ]
        },
        {
          "output_type": "stream",
          "name": "stderr",
          "text": [
            "INFO:train:test_auc_score: 0.8622\n"
          ]
        },
        {
          "output_type": "stream",
          "name": "stdout",
          "text": [
            "starting epoch:  30\n",
            "Train Epoch: 30, train-auc-score: 0.8819\n"
          ]
        },
        {
          "output_type": "stream",
          "name": "stderr",
          "text": [
            "INFO:train:Train Epoch: 30, train-auc-score: 0.8819\n"
          ]
        },
        {
          "output_type": "stream",
          "name": "stdout",
          "text": [
            "test_auc_score: 0.8651\n"
          ]
        },
        {
          "output_type": "stream",
          "name": "stderr",
          "text": [
            "INFO:train:test_auc_score: 0.8651\n"
          ]
        },
        {
          "output_type": "stream",
          "name": "stdout",
          "text": [
            "starting epoch:  31\n",
            "Train Epoch: 31, train-auc-score: 0.8906\n"
          ]
        },
        {
          "output_type": "stream",
          "name": "stderr",
          "text": [
            "INFO:train:Train Epoch: 31, train-auc-score: 0.8906\n"
          ]
        },
        {
          "output_type": "stream",
          "name": "stdout",
          "text": [
            "test_auc_score: 0.8731\n"
          ]
        },
        {
          "output_type": "stream",
          "name": "stderr",
          "text": [
            "INFO:train:test_auc_score: 0.8731\n"
          ]
        },
        {
          "output_type": "stream",
          "name": "stdout",
          "text": [
            "starting epoch:  32\n",
            "Train Epoch: 32, train-auc-score: 0.8908\n"
          ]
        },
        {
          "output_type": "stream",
          "name": "stderr",
          "text": [
            "INFO:train:Train Epoch: 32, train-auc-score: 0.8908\n"
          ]
        },
        {
          "output_type": "stream",
          "name": "stdout",
          "text": [
            "test_auc_score: 0.8564\n"
          ]
        },
        {
          "output_type": "stream",
          "name": "stderr",
          "text": [
            "INFO:train:test_auc_score: 0.8564\n"
          ]
        },
        {
          "output_type": "stream",
          "name": "stdout",
          "text": [
            "starting epoch:  33\n",
            "Train Epoch: 33, train-auc-score: 0.8829\n"
          ]
        },
        {
          "output_type": "stream",
          "name": "stderr",
          "text": [
            "INFO:train:Train Epoch: 33, train-auc-score: 0.8829\n"
          ]
        },
        {
          "output_type": "stream",
          "name": "stdout",
          "text": [
            "test_auc_score: 0.8480\n"
          ]
        },
        {
          "output_type": "stream",
          "name": "stderr",
          "text": [
            "INFO:train:test_auc_score: 0.8480\n"
          ]
        },
        {
          "output_type": "stream",
          "name": "stdout",
          "text": [
            "starting epoch:  34\n",
            "Train Epoch: 34, train-auc-score: 0.8921\n"
          ]
        },
        {
          "output_type": "stream",
          "name": "stderr",
          "text": [
            "INFO:train:Train Epoch: 34, train-auc-score: 0.8921\n"
          ]
        },
        {
          "output_type": "stream",
          "name": "stdout",
          "text": [
            "test_auc_score: 0.8769\n"
          ]
        },
        {
          "output_type": "stream",
          "name": "stderr",
          "text": [
            "INFO:train:test_auc_score: 0.8769\n"
          ]
        },
        {
          "output_type": "stream",
          "name": "stdout",
          "text": [
            "starting epoch:  35\n",
            "Train Epoch: 35, train-auc-score: 0.8954\n"
          ]
        },
        {
          "output_type": "stream",
          "name": "stderr",
          "text": [
            "INFO:train:Train Epoch: 35, train-auc-score: 0.8954\n"
          ]
        },
        {
          "output_type": "stream",
          "name": "stdout",
          "text": [
            "test_auc_score: 0.8726\n"
          ]
        },
        {
          "output_type": "stream",
          "name": "stderr",
          "text": [
            "INFO:train:test_auc_score: 0.8726\n"
          ]
        },
        {
          "output_type": "stream",
          "name": "stdout",
          "text": [
            "starting epoch:  36\n",
            "Train Epoch: 36, train-auc-score: 0.8893\n"
          ]
        },
        {
          "output_type": "stream",
          "name": "stderr",
          "text": [
            "INFO:train:Train Epoch: 36, train-auc-score: 0.8893\n"
          ]
        },
        {
          "output_type": "stream",
          "name": "stdout",
          "text": [
            "test_auc_score: 0.8667\n"
          ]
        },
        {
          "output_type": "stream",
          "name": "stderr",
          "text": [
            "INFO:train:test_auc_score: 0.8667\n"
          ]
        },
        {
          "output_type": "stream",
          "name": "stdout",
          "text": [
            "starting epoch:  37\n",
            "Train Epoch: 37, train-auc-score: 0.8925\n"
          ]
        },
        {
          "output_type": "stream",
          "name": "stderr",
          "text": [
            "INFO:train:Train Epoch: 37, train-auc-score: 0.8925\n"
          ]
        },
        {
          "output_type": "stream",
          "name": "stdout",
          "text": [
            "test_auc_score: 0.8775\n"
          ]
        },
        {
          "output_type": "stream",
          "name": "stderr",
          "text": [
            "INFO:train:test_auc_score: 0.8775\n"
          ]
        },
        {
          "output_type": "stream",
          "name": "stdout",
          "text": [
            "starting epoch:  38\n",
            "Train Epoch: 38, train-auc-score: 0.8998\n"
          ]
        },
        {
          "output_type": "stream",
          "name": "stderr",
          "text": [
            "INFO:train:Train Epoch: 38, train-auc-score: 0.8998\n"
          ]
        },
        {
          "output_type": "stream",
          "name": "stdout",
          "text": [
            "test_auc_score: 0.8796\n"
          ]
        },
        {
          "output_type": "stream",
          "name": "stderr",
          "text": [
            "INFO:train:test_auc_score: 0.8796\n"
          ]
        },
        {
          "output_type": "stream",
          "name": "stdout",
          "text": [
            "starting epoch:  39\n",
            "Train Epoch: 39, train-auc-score: 0.8985\n"
          ]
        },
        {
          "output_type": "stream",
          "name": "stderr",
          "text": [
            "INFO:train:Train Epoch: 39, train-auc-score: 0.8985\n"
          ]
        },
        {
          "output_type": "stream",
          "name": "stdout",
          "text": [
            "test_auc_score: 0.8750\n"
          ]
        },
        {
          "output_type": "stream",
          "name": "stderr",
          "text": [
            "INFO:train:test_auc_score: 0.8750\n"
          ]
        },
        {
          "output_type": "stream",
          "name": "stdout",
          "text": [
            "starting epoch:  40\n",
            "Train Epoch: 40, train-auc-score: 0.8893\n"
          ]
        },
        {
          "output_type": "stream",
          "name": "stderr",
          "text": [
            "INFO:train:Train Epoch: 40, train-auc-score: 0.8893\n"
          ]
        },
        {
          "output_type": "stream",
          "name": "stdout",
          "text": [
            "test_auc_score: 0.8774\n"
          ]
        },
        {
          "output_type": "stream",
          "name": "stderr",
          "text": [
            "INFO:train:test_auc_score: 0.8774\n"
          ]
        },
        {
          "output_type": "stream",
          "name": "stdout",
          "text": [
            "starting epoch:  41\n",
            "Train Epoch: 41, train-auc-score: 0.9060\n"
          ]
        },
        {
          "output_type": "stream",
          "name": "stderr",
          "text": [
            "INFO:train:Train Epoch: 41, train-auc-score: 0.9060\n"
          ]
        },
        {
          "output_type": "stream",
          "name": "stdout",
          "text": [
            "test_auc_score: 0.8729\n"
          ]
        },
        {
          "output_type": "stream",
          "name": "stderr",
          "text": [
            "INFO:train:test_auc_score: 0.8729\n"
          ]
        },
        {
          "output_type": "stream",
          "name": "stdout",
          "text": [
            "starting epoch:  42\n",
            "Train Epoch: 42, train-auc-score: 0.9120\n"
          ]
        },
        {
          "output_type": "stream",
          "name": "stderr",
          "text": [
            "INFO:train:Train Epoch: 42, train-auc-score: 0.9120\n"
          ]
        },
        {
          "output_type": "stream",
          "name": "stdout",
          "text": [
            "test_auc_score: 0.8731\n"
          ]
        },
        {
          "output_type": "stream",
          "name": "stderr",
          "text": [
            "INFO:train:test_auc_score: 0.8731\n"
          ]
        },
        {
          "output_type": "stream",
          "name": "stdout",
          "text": [
            "starting epoch:  43\n",
            "Train Epoch: 43, train-auc-score: 0.9013\n"
          ]
        },
        {
          "output_type": "stream",
          "name": "stderr",
          "text": [
            "INFO:train:Train Epoch: 43, train-auc-score: 0.9013\n"
          ]
        },
        {
          "output_type": "stream",
          "name": "stdout",
          "text": [
            "test_auc_score: 0.8743\n"
          ]
        },
        {
          "output_type": "stream",
          "name": "stderr",
          "text": [
            "INFO:train:test_auc_score: 0.8743\n"
          ]
        },
        {
          "output_type": "stream",
          "name": "stdout",
          "text": [
            "starting epoch:  44\n",
            "Train Epoch: 44, train-auc-score: 0.9049\n"
          ]
        },
        {
          "output_type": "stream",
          "name": "stderr",
          "text": [
            "INFO:train:Train Epoch: 44, train-auc-score: 0.9049\n"
          ]
        },
        {
          "output_type": "stream",
          "name": "stdout",
          "text": [
            "test_auc_score: 0.8663\n"
          ]
        },
        {
          "output_type": "stream",
          "name": "stderr",
          "text": [
            "INFO:train:test_auc_score: 0.8663\n"
          ]
        },
        {
          "output_type": "stream",
          "name": "stdout",
          "text": [
            "starting epoch:  45\n",
            "Train Epoch: 45, train-auc-score: 0.9076\n"
          ]
        },
        {
          "output_type": "stream",
          "name": "stderr",
          "text": [
            "INFO:train:Train Epoch: 45, train-auc-score: 0.9076\n"
          ]
        },
        {
          "output_type": "stream",
          "name": "stdout",
          "text": [
            "test_auc_score: 0.8715\n"
          ]
        },
        {
          "output_type": "stream",
          "name": "stderr",
          "text": [
            "INFO:train:test_auc_score: 0.8715\n"
          ]
        },
        {
          "output_type": "stream",
          "name": "stdout",
          "text": [
            "starting epoch:  46\n",
            "Train Epoch: 46, train-auc-score: 0.9020\n"
          ]
        },
        {
          "output_type": "stream",
          "name": "stderr",
          "text": [
            "INFO:train:Train Epoch: 46, train-auc-score: 0.9020\n"
          ]
        },
        {
          "output_type": "stream",
          "name": "stdout",
          "text": [
            "test_auc_score: 0.8713\n"
          ]
        },
        {
          "output_type": "stream",
          "name": "stderr",
          "text": [
            "INFO:train:test_auc_score: 0.8713\n"
          ]
        },
        {
          "output_type": "stream",
          "name": "stdout",
          "text": [
            "starting epoch:  47\n",
            "Train Epoch: 47, train-auc-score: 0.9042\n"
          ]
        },
        {
          "output_type": "stream",
          "name": "stderr",
          "text": [
            "INFO:train:Train Epoch: 47, train-auc-score: 0.9042\n"
          ]
        },
        {
          "output_type": "stream",
          "name": "stdout",
          "text": [
            "test_auc_score: 0.8675\n"
          ]
        },
        {
          "output_type": "stream",
          "name": "stderr",
          "text": [
            "INFO:train:test_auc_score: 0.8675\n"
          ]
        },
        {
          "output_type": "stream",
          "name": "stdout",
          "text": [
            "starting epoch:  48\n",
            "Train Epoch: 48, train-auc-score: 0.9067\n"
          ]
        },
        {
          "output_type": "stream",
          "name": "stderr",
          "text": [
            "INFO:train:Train Epoch: 48, train-auc-score: 0.9067\n"
          ]
        },
        {
          "output_type": "stream",
          "name": "stdout",
          "text": [
            "test_auc_score: 0.8800\n"
          ]
        },
        {
          "output_type": "stream",
          "name": "stderr",
          "text": [
            "INFO:train:test_auc_score: 0.8800\n"
          ]
        },
        {
          "output_type": "stream",
          "name": "stdout",
          "text": [
            "starting epoch:  49\n",
            "Train Epoch: 49, train-auc-score: 0.9129\n"
          ]
        },
        {
          "output_type": "stream",
          "name": "stderr",
          "text": [
            "INFO:train:Train Epoch: 49, train-auc-score: 0.9129\n"
          ]
        },
        {
          "output_type": "stream",
          "name": "stdout",
          "text": [
            "test_auc_score: 0.8782\n"
          ]
        },
        {
          "output_type": "stream",
          "name": "stderr",
          "text": [
            "INFO:train:test_auc_score: 0.8782\n"
          ]
        },
        {
          "output_type": "stream",
          "name": "stdout",
          "text": [
            "starting epoch:  50\n",
            "Train Epoch: 50, train-auc-score: 0.9132\n"
          ]
        },
        {
          "output_type": "stream",
          "name": "stderr",
          "text": [
            "INFO:train:Train Epoch: 50, train-auc-score: 0.9132\n"
          ]
        },
        {
          "output_type": "stream",
          "name": "stdout",
          "text": [
            "test_auc_score: 0.8679\n"
          ]
        },
        {
          "output_type": "stream",
          "name": "stderr",
          "text": [
            "INFO:train:test_auc_score: 0.8679\n"
          ]
        },
        {
          "output_type": "stream",
          "name": "stdout",
          "text": [
            "starting epoch:  51\n",
            "Train Epoch: 51, train-auc-score: 0.9022\n"
          ]
        },
        {
          "output_type": "stream",
          "name": "stderr",
          "text": [
            "INFO:train:Train Epoch: 51, train-auc-score: 0.9022\n"
          ]
        },
        {
          "output_type": "stream",
          "name": "stdout",
          "text": [
            "test_auc_score: 0.8579\n"
          ]
        },
        {
          "output_type": "stream",
          "name": "stderr",
          "text": [
            "INFO:train:test_auc_score: 0.8579\n"
          ]
        },
        {
          "output_type": "stream",
          "name": "stdout",
          "text": [
            "starting epoch:  52\n",
            "Train Epoch: 52, train-auc-score: 0.9055\n"
          ]
        },
        {
          "output_type": "stream",
          "name": "stderr",
          "text": [
            "INFO:train:Train Epoch: 52, train-auc-score: 0.9055\n"
          ]
        },
        {
          "output_type": "stream",
          "name": "stdout",
          "text": [
            "test_auc_score: 0.8476\n"
          ]
        },
        {
          "output_type": "stream",
          "name": "stderr",
          "text": [
            "INFO:train:test_auc_score: 0.8476\n"
          ]
        },
        {
          "output_type": "stream",
          "name": "stdout",
          "text": [
            "starting epoch:  53\n",
            "Train Epoch: 53, train-auc-score: 0.9071\n"
          ]
        },
        {
          "output_type": "stream",
          "name": "stderr",
          "text": [
            "INFO:train:Train Epoch: 53, train-auc-score: 0.9071\n"
          ]
        },
        {
          "output_type": "stream",
          "name": "stdout",
          "text": [
            "test_auc_score: 0.8686\n"
          ]
        },
        {
          "output_type": "stream",
          "name": "stderr",
          "text": [
            "INFO:train:test_auc_score: 0.8686\n"
          ]
        },
        {
          "output_type": "stream",
          "name": "stdout",
          "text": [
            "starting epoch:  54\n",
            "Train Epoch: 54, train-auc-score: 0.9036\n"
          ]
        },
        {
          "output_type": "stream",
          "name": "stderr",
          "text": [
            "INFO:train:Train Epoch: 54, train-auc-score: 0.9036\n"
          ]
        },
        {
          "output_type": "stream",
          "name": "stdout",
          "text": [
            "test_auc_score: 0.8622\n"
          ]
        },
        {
          "output_type": "stream",
          "name": "stderr",
          "text": [
            "INFO:train:test_auc_score: 0.8622\n"
          ]
        },
        {
          "output_type": "stream",
          "name": "stdout",
          "text": [
            "starting epoch:  55\n",
            "Train Epoch: 55, train-auc-score: 0.9077\n"
          ]
        },
        {
          "output_type": "stream",
          "name": "stderr",
          "text": [
            "INFO:train:Train Epoch: 55, train-auc-score: 0.9077\n"
          ]
        },
        {
          "output_type": "stream",
          "name": "stdout",
          "text": [
            "test_auc_score: 0.8626\n"
          ]
        },
        {
          "output_type": "stream",
          "name": "stderr",
          "text": [
            "INFO:train:test_auc_score: 0.8626\n"
          ]
        },
        {
          "output_type": "stream",
          "name": "stdout",
          "text": [
            "starting epoch:  56\n",
            "Train Epoch: 56, train-auc-score: 0.9005\n"
          ]
        },
        {
          "output_type": "stream",
          "name": "stderr",
          "text": [
            "INFO:train:Train Epoch: 56, train-auc-score: 0.9005\n"
          ]
        },
        {
          "output_type": "stream",
          "name": "stdout",
          "text": [
            "test_auc_score: 0.8676\n"
          ]
        },
        {
          "output_type": "stream",
          "name": "stderr",
          "text": [
            "INFO:train:test_auc_score: 0.8676\n"
          ]
        },
        {
          "output_type": "stream",
          "name": "stdout",
          "text": [
            "starting epoch:  57\n",
            "Train Epoch: 57, train-auc-score: 0.9090\n"
          ]
        },
        {
          "output_type": "stream",
          "name": "stderr",
          "text": [
            "INFO:train:Train Epoch: 57, train-auc-score: 0.9090\n"
          ]
        },
        {
          "output_type": "stream",
          "name": "stdout",
          "text": [
            "test_auc_score: 0.8735\n"
          ]
        },
        {
          "output_type": "stream",
          "name": "stderr",
          "text": [
            "INFO:train:test_auc_score: 0.8735\n"
          ]
        },
        {
          "output_type": "stream",
          "name": "stdout",
          "text": [
            "starting epoch:  58\n",
            "Train Epoch: 58, train-auc-score: 0.8992\n"
          ]
        },
        {
          "output_type": "stream",
          "name": "stderr",
          "text": [
            "INFO:train:Train Epoch: 58, train-auc-score: 0.8992\n"
          ]
        },
        {
          "output_type": "stream",
          "name": "stdout",
          "text": [
            "test_auc_score: 0.8659\n"
          ]
        },
        {
          "output_type": "stream",
          "name": "stderr",
          "text": [
            "INFO:train:test_auc_score: 0.8659\n"
          ]
        },
        {
          "output_type": "stream",
          "name": "stdout",
          "text": [
            "starting epoch:  59\n",
            "Train Epoch: 59, train-auc-score: 0.9026\n"
          ]
        },
        {
          "output_type": "stream",
          "name": "stderr",
          "text": [
            "INFO:train:Train Epoch: 59, train-auc-score: 0.9026\n"
          ]
        },
        {
          "output_type": "stream",
          "name": "stdout",
          "text": [
            "test_auc_score: 0.8584\n"
          ]
        },
        {
          "output_type": "stream",
          "name": "stderr",
          "text": [
            "INFO:train:test_auc_score: 0.8584\n"
          ]
        },
        {
          "output_type": "stream",
          "name": "stdout",
          "text": [
            "starting epoch:  60\n",
            "Train Epoch: 60, train-auc-score: 0.9106\n"
          ]
        },
        {
          "output_type": "stream",
          "name": "stderr",
          "text": [
            "INFO:train:Train Epoch: 60, train-auc-score: 0.9106\n"
          ]
        },
        {
          "output_type": "stream",
          "name": "stdout",
          "text": [
            "test_auc_score: 0.8542\n"
          ]
        },
        {
          "output_type": "stream",
          "name": "stderr",
          "text": [
            "INFO:train:test_auc_score: 0.8542\n"
          ]
        },
        {
          "output_type": "stream",
          "name": "stdout",
          "text": [
            "starting epoch:  61\n",
            "Train Epoch: 61, train-auc-score: 0.9047\n"
          ]
        },
        {
          "output_type": "stream",
          "name": "stderr",
          "text": [
            "INFO:train:Train Epoch: 61, train-auc-score: 0.9047\n"
          ]
        },
        {
          "output_type": "stream",
          "name": "stdout",
          "text": [
            "test_auc_score: 0.8600\n"
          ]
        },
        {
          "output_type": "stream",
          "name": "stderr",
          "text": [
            "INFO:train:test_auc_score: 0.8600\n"
          ]
        },
        {
          "output_type": "stream",
          "name": "stdout",
          "text": [
            "starting epoch:  62\n",
            "Train Epoch: 62, train-auc-score: 0.9100\n"
          ]
        },
        {
          "output_type": "stream",
          "name": "stderr",
          "text": [
            "INFO:train:Train Epoch: 62, train-auc-score: 0.9100\n"
          ]
        },
        {
          "output_type": "stream",
          "name": "stdout",
          "text": [
            "test_auc_score: 0.8442\n"
          ]
        },
        {
          "output_type": "stream",
          "name": "stderr",
          "text": [
            "INFO:train:test_auc_score: 0.8442\n"
          ]
        },
        {
          "output_type": "stream",
          "name": "stdout",
          "text": [
            "starting epoch:  63\n",
            "Train Epoch: 63, train-auc-score: 0.8967\n"
          ]
        },
        {
          "output_type": "stream",
          "name": "stderr",
          "text": [
            "INFO:train:Train Epoch: 63, train-auc-score: 0.8967\n"
          ]
        },
        {
          "output_type": "stream",
          "name": "stdout",
          "text": [
            "test_auc_score: 0.8527\n"
          ]
        },
        {
          "output_type": "stream",
          "name": "stderr",
          "text": [
            "INFO:train:test_auc_score: 0.8527\n"
          ]
        },
        {
          "output_type": "stream",
          "name": "stdout",
          "text": [
            "starting epoch:  64\n",
            "Train Epoch: 64, train-auc-score: 0.9149\n"
          ]
        },
        {
          "output_type": "stream",
          "name": "stderr",
          "text": [
            "INFO:train:Train Epoch: 64, train-auc-score: 0.9149\n"
          ]
        },
        {
          "output_type": "stream",
          "name": "stdout",
          "text": [
            "test_auc_score: 0.8603\n"
          ]
        },
        {
          "output_type": "stream",
          "name": "stderr",
          "text": [
            "INFO:train:test_auc_score: 0.8603\n"
          ]
        },
        {
          "output_type": "stream",
          "name": "stdout",
          "text": [
            "starting epoch:  65\n",
            "Train Epoch: 65, train-auc-score: 0.9030\n"
          ]
        },
        {
          "output_type": "stream",
          "name": "stderr",
          "text": [
            "INFO:train:Train Epoch: 65, train-auc-score: 0.9030\n"
          ]
        },
        {
          "output_type": "stream",
          "name": "stdout",
          "text": [
            "test_auc_score: 0.8380\n"
          ]
        },
        {
          "output_type": "stream",
          "name": "stderr",
          "text": [
            "INFO:train:test_auc_score: 0.8380\n"
          ]
        },
        {
          "output_type": "stream",
          "name": "stdout",
          "text": [
            "starting epoch:  66\n",
            "Train Epoch: 66, train-auc-score: 0.8999\n"
          ]
        },
        {
          "output_type": "stream",
          "name": "stderr",
          "text": [
            "INFO:train:Train Epoch: 66, train-auc-score: 0.8999\n"
          ]
        },
        {
          "output_type": "stream",
          "name": "stdout",
          "text": [
            "test_auc_score: 0.8558\n"
          ]
        },
        {
          "output_type": "stream",
          "name": "stderr",
          "text": [
            "INFO:train:test_auc_score: 0.8558\n"
          ]
        },
        {
          "output_type": "stream",
          "name": "stdout",
          "text": [
            "starting epoch:  67\n",
            "Train Epoch: 67, train-auc-score: 0.9075\n"
          ]
        },
        {
          "output_type": "stream",
          "name": "stderr",
          "text": [
            "INFO:train:Train Epoch: 67, train-auc-score: 0.9075\n"
          ]
        },
        {
          "output_type": "stream",
          "name": "stdout",
          "text": [
            "test_auc_score: 0.8610\n"
          ]
        },
        {
          "output_type": "stream",
          "name": "stderr",
          "text": [
            "INFO:train:test_auc_score: 0.8610\n"
          ]
        },
        {
          "output_type": "stream",
          "name": "stdout",
          "text": [
            "starting epoch:  68\n",
            "Train Epoch: 68, train-auc-score: 0.9085\n"
          ]
        },
        {
          "output_type": "stream",
          "name": "stderr",
          "text": [
            "INFO:train:Train Epoch: 68, train-auc-score: 0.9085\n"
          ]
        },
        {
          "output_type": "stream",
          "name": "stdout",
          "text": [
            "test_auc_score: 0.8596\n"
          ]
        },
        {
          "output_type": "stream",
          "name": "stderr",
          "text": [
            "INFO:train:test_auc_score: 0.8596\n"
          ]
        },
        {
          "output_type": "stream",
          "name": "stdout",
          "text": [
            "starting epoch:  69\n",
            "Train Epoch: 69, train-auc-score: 0.9057\n"
          ]
        },
        {
          "output_type": "stream",
          "name": "stderr",
          "text": [
            "INFO:train:Train Epoch: 69, train-auc-score: 0.9057\n"
          ]
        },
        {
          "output_type": "stream",
          "name": "stdout",
          "text": [
            "test_auc_score: 0.8490\n"
          ]
        },
        {
          "output_type": "stream",
          "name": "stderr",
          "text": [
            "INFO:train:test_auc_score: 0.8490\n"
          ]
        },
        {
          "output_type": "stream",
          "name": "stdout",
          "text": [
            "starting epoch:  70\n",
            "Train Epoch: 70, train-auc-score: 0.9033\n"
          ]
        },
        {
          "output_type": "stream",
          "name": "stderr",
          "text": [
            "INFO:train:Train Epoch: 70, train-auc-score: 0.9033\n"
          ]
        },
        {
          "output_type": "stream",
          "name": "stdout",
          "text": [
            "test_auc_score: 0.8527\n"
          ]
        },
        {
          "output_type": "stream",
          "name": "stderr",
          "text": [
            "INFO:train:test_auc_score: 0.8527\n"
          ]
        },
        {
          "output_type": "stream",
          "name": "stdout",
          "text": [
            "starting epoch:  71\n",
            "Train Epoch: 71, train-auc-score: 0.9157\n"
          ]
        },
        {
          "output_type": "stream",
          "name": "stderr",
          "text": [
            "INFO:train:Train Epoch: 71, train-auc-score: 0.9157\n"
          ]
        },
        {
          "output_type": "stream",
          "name": "stdout",
          "text": [
            "test_auc_score: 0.8561\n"
          ]
        },
        {
          "output_type": "stream",
          "name": "stderr",
          "text": [
            "INFO:train:test_auc_score: 0.8561\n"
          ]
        },
        {
          "output_type": "stream",
          "name": "stdout",
          "text": [
            "starting epoch:  72\n",
            "Train Epoch: 72, train-auc-score: 0.8980\n"
          ]
        },
        {
          "output_type": "stream",
          "name": "stderr",
          "text": [
            "INFO:train:Train Epoch: 72, train-auc-score: 0.8980\n"
          ]
        },
        {
          "output_type": "stream",
          "name": "stdout",
          "text": [
            "test_auc_score: 0.8532\n"
          ]
        },
        {
          "output_type": "stream",
          "name": "stderr",
          "text": [
            "INFO:train:test_auc_score: 0.8532\n"
          ]
        },
        {
          "output_type": "stream",
          "name": "stdout",
          "text": [
            "starting epoch:  73\n",
            "Train Epoch: 73, train-auc-score: 0.9206\n"
          ]
        },
        {
          "output_type": "stream",
          "name": "stderr",
          "text": [
            "INFO:train:Train Epoch: 73, train-auc-score: 0.9206\n"
          ]
        },
        {
          "output_type": "stream",
          "name": "stdout",
          "text": [
            "test_auc_score: 0.8448\n"
          ]
        },
        {
          "output_type": "stream",
          "name": "stderr",
          "text": [
            "INFO:train:test_auc_score: 0.8448\n"
          ]
        },
        {
          "output_type": "stream",
          "name": "stdout",
          "text": [
            "starting epoch:  74\n",
            "Train Epoch: 74, train-auc-score: 0.9124\n"
          ]
        },
        {
          "output_type": "stream",
          "name": "stderr",
          "text": [
            "INFO:train:Train Epoch: 74, train-auc-score: 0.9124\n"
          ]
        },
        {
          "output_type": "stream",
          "name": "stdout",
          "text": [
            "test_auc_score: 0.8411\n"
          ]
        },
        {
          "output_type": "stream",
          "name": "stderr",
          "text": [
            "INFO:train:test_auc_score: 0.8411\n"
          ]
        },
        {
          "output_type": "stream",
          "name": "stdout",
          "text": [
            "starting epoch:  75\n",
            "Train Epoch: 75, train-auc-score: 0.9033\n"
          ]
        },
        {
          "output_type": "stream",
          "name": "stderr",
          "text": [
            "INFO:train:Train Epoch: 75, train-auc-score: 0.9033\n"
          ]
        },
        {
          "output_type": "stream",
          "name": "stdout",
          "text": [
            "test_auc_score: 0.8479\n"
          ]
        },
        {
          "output_type": "stream",
          "name": "stderr",
          "text": [
            "INFO:train:test_auc_score: 0.8479\n"
          ]
        },
        {
          "output_type": "stream",
          "name": "stdout",
          "text": [
            "starting epoch:  76\n",
            "Train Epoch: 76, train-auc-score: 0.9126\n"
          ]
        },
        {
          "output_type": "stream",
          "name": "stderr",
          "text": [
            "INFO:train:Train Epoch: 76, train-auc-score: 0.9126\n"
          ]
        },
        {
          "output_type": "stream",
          "name": "stdout",
          "text": [
            "test_auc_score: 0.8520\n"
          ]
        },
        {
          "output_type": "stream",
          "name": "stderr",
          "text": [
            "INFO:train:test_auc_score: 0.8520\n"
          ]
        },
        {
          "output_type": "stream",
          "name": "stdout",
          "text": [
            "starting epoch:  77\n",
            "Train Epoch: 77, train-auc-score: 0.9128\n"
          ]
        },
        {
          "output_type": "stream",
          "name": "stderr",
          "text": [
            "INFO:train:Train Epoch: 77, train-auc-score: 0.9128\n"
          ]
        },
        {
          "output_type": "stream",
          "name": "stdout",
          "text": [
            "test_auc_score: 0.8513\n"
          ]
        },
        {
          "output_type": "stream",
          "name": "stderr",
          "text": [
            "INFO:train:test_auc_score: 0.8513\n"
          ]
        },
        {
          "output_type": "stream",
          "name": "stdout",
          "text": [
            "starting epoch:  78\n",
            "Train Epoch: 78, train-auc-score: 0.9055\n"
          ]
        },
        {
          "output_type": "stream",
          "name": "stderr",
          "text": [
            "INFO:train:Train Epoch: 78, train-auc-score: 0.9055\n"
          ]
        },
        {
          "output_type": "stream",
          "name": "stdout",
          "text": [
            "test_auc_score: 0.8339\n"
          ]
        },
        {
          "output_type": "stream",
          "name": "stderr",
          "text": [
            "INFO:train:test_auc_score: 0.8339\n"
          ]
        },
        {
          "output_type": "stream",
          "name": "stdout",
          "text": [
            "starting epoch:  79\n",
            "Train Epoch: 79, train-auc-score: 0.9154\n"
          ]
        },
        {
          "output_type": "stream",
          "name": "stderr",
          "text": [
            "INFO:train:Train Epoch: 79, train-auc-score: 0.9154\n"
          ]
        },
        {
          "output_type": "stream",
          "name": "stdout",
          "text": [
            "test_auc_score: 0.8447\n"
          ]
        },
        {
          "output_type": "stream",
          "name": "stderr",
          "text": [
            "INFO:train:test_auc_score: 0.8447\n"
          ]
        },
        {
          "output_type": "stream",
          "name": "stdout",
          "text": [
            "starting epoch:  80\n",
            "Train Epoch: 80, train-auc-score: 0.9076\n"
          ]
        },
        {
          "output_type": "stream",
          "name": "stderr",
          "text": [
            "INFO:train:Train Epoch: 80, train-auc-score: 0.9076\n"
          ]
        },
        {
          "output_type": "stream",
          "name": "stdout",
          "text": [
            "test_auc_score: 0.8278\n"
          ]
        },
        {
          "output_type": "stream",
          "name": "stderr",
          "text": [
            "INFO:train:test_auc_score: 0.8278\n"
          ]
        },
        {
          "output_type": "stream",
          "name": "stdout",
          "text": [
            "starting epoch:  81\n",
            "Train Epoch: 81, train-auc-score: 0.9076\n"
          ]
        },
        {
          "output_type": "stream",
          "name": "stderr",
          "text": [
            "INFO:train:Train Epoch: 81, train-auc-score: 0.9076\n"
          ]
        },
        {
          "output_type": "stream",
          "name": "stdout",
          "text": [
            "test_auc_score: 0.8501\n"
          ]
        },
        {
          "output_type": "stream",
          "name": "stderr",
          "text": [
            "INFO:train:test_auc_score: 0.8501\n"
          ]
        },
        {
          "output_type": "stream",
          "name": "stdout",
          "text": [
            "starting epoch:  82\n",
            "Train Epoch: 82, train-auc-score: 0.9154\n"
          ]
        },
        {
          "output_type": "stream",
          "name": "stderr",
          "text": [
            "INFO:train:Train Epoch: 82, train-auc-score: 0.9154\n"
          ]
        },
        {
          "output_type": "stream",
          "name": "stdout",
          "text": [
            "test_auc_score: 0.8489\n"
          ]
        },
        {
          "output_type": "stream",
          "name": "stderr",
          "text": [
            "INFO:train:test_auc_score: 0.8489\n"
          ]
        },
        {
          "output_type": "stream",
          "name": "stdout",
          "text": [
            "starting epoch:  83\n",
            "Train Epoch: 83, train-auc-score: 0.9093\n"
          ]
        },
        {
          "output_type": "stream",
          "name": "stderr",
          "text": [
            "INFO:train:Train Epoch: 83, train-auc-score: 0.9093\n"
          ]
        },
        {
          "output_type": "stream",
          "name": "stdout",
          "text": [
            "test_auc_score: 0.8486\n"
          ]
        },
        {
          "output_type": "stream",
          "name": "stderr",
          "text": [
            "INFO:train:test_auc_score: 0.8486\n"
          ]
        },
        {
          "output_type": "stream",
          "name": "stdout",
          "text": [
            "starting epoch:  84\n",
            "Train Epoch: 84, train-auc-score: 0.9136\n"
          ]
        },
        {
          "output_type": "stream",
          "name": "stderr",
          "text": [
            "INFO:train:Train Epoch: 84, train-auc-score: 0.9136\n"
          ]
        },
        {
          "output_type": "stream",
          "name": "stdout",
          "text": [
            "test_auc_score: 0.8394\n"
          ]
        },
        {
          "output_type": "stream",
          "name": "stderr",
          "text": [
            "INFO:train:test_auc_score: 0.8394\n"
          ]
        },
        {
          "output_type": "stream",
          "name": "stdout",
          "text": [
            "starting epoch:  85\n",
            "Train Epoch: 85, train-auc-score: 0.9108\n"
          ]
        },
        {
          "output_type": "stream",
          "name": "stderr",
          "text": [
            "INFO:train:Train Epoch: 85, train-auc-score: 0.9108\n"
          ]
        },
        {
          "output_type": "stream",
          "name": "stdout",
          "text": [
            "test_auc_score: 0.8586\n"
          ]
        },
        {
          "output_type": "stream",
          "name": "stderr",
          "text": [
            "INFO:train:test_auc_score: 0.8586\n"
          ]
        },
        {
          "output_type": "stream",
          "name": "stdout",
          "text": [
            "starting epoch:  86\n",
            "Train Epoch: 86, train-auc-score: 0.9082\n"
          ]
        },
        {
          "output_type": "stream",
          "name": "stderr",
          "text": [
            "INFO:train:Train Epoch: 86, train-auc-score: 0.9082\n"
          ]
        },
        {
          "output_type": "stream",
          "name": "stdout",
          "text": [
            "test_auc_score: 0.8472\n"
          ]
        },
        {
          "output_type": "stream",
          "name": "stderr",
          "text": [
            "INFO:train:test_auc_score: 0.8472\n"
          ]
        },
        {
          "output_type": "stream",
          "name": "stdout",
          "text": [
            "starting epoch:  87\n",
            "Train Epoch: 87, train-auc-score: 0.9066\n"
          ]
        },
        {
          "output_type": "stream",
          "name": "stderr",
          "text": [
            "INFO:train:Train Epoch: 87, train-auc-score: 0.9066\n"
          ]
        },
        {
          "output_type": "stream",
          "name": "stdout",
          "text": [
            "test_auc_score: 0.8459\n"
          ]
        },
        {
          "output_type": "stream",
          "name": "stderr",
          "text": [
            "INFO:train:test_auc_score: 0.8459\n"
          ]
        },
        {
          "output_type": "stream",
          "name": "stdout",
          "text": [
            "starting epoch:  88\n",
            "Train Epoch: 88, train-auc-score: 0.9140\n"
          ]
        },
        {
          "output_type": "stream",
          "name": "stderr",
          "text": [
            "INFO:train:Train Epoch: 88, train-auc-score: 0.9140\n"
          ]
        },
        {
          "output_type": "stream",
          "name": "stdout",
          "text": [
            "test_auc_score: 0.8338\n"
          ]
        },
        {
          "output_type": "stream",
          "name": "stderr",
          "text": [
            "INFO:train:test_auc_score: 0.8338\n"
          ]
        },
        {
          "output_type": "stream",
          "name": "stdout",
          "text": [
            "starting epoch:  89\n",
            "Train Epoch: 89, train-auc-score: 0.9140\n"
          ]
        },
        {
          "output_type": "stream",
          "name": "stderr",
          "text": [
            "INFO:train:Train Epoch: 89, train-auc-score: 0.9140\n"
          ]
        },
        {
          "output_type": "stream",
          "name": "stdout",
          "text": [
            "test_auc_score: 0.8307\n"
          ]
        },
        {
          "output_type": "stream",
          "name": "stderr",
          "text": [
            "INFO:train:test_auc_score: 0.8307\n"
          ]
        },
        {
          "output_type": "stream",
          "name": "stdout",
          "text": [
            "starting epoch:  90\n",
            "Train Epoch: 90, train-auc-score: 0.9040\n"
          ]
        },
        {
          "output_type": "stream",
          "name": "stderr",
          "text": [
            "INFO:train:Train Epoch: 90, train-auc-score: 0.9040\n"
          ]
        },
        {
          "output_type": "stream",
          "name": "stdout",
          "text": [
            "test_auc_score: 0.8414\n"
          ]
        },
        {
          "output_type": "stream",
          "name": "stderr",
          "text": [
            "INFO:train:test_auc_score: 0.8414\n"
          ]
        },
        {
          "output_type": "stream",
          "name": "stdout",
          "text": [
            "starting epoch:  91\n",
            "Train Epoch: 91, train-auc-score: 0.9073\n"
          ]
        },
        {
          "output_type": "stream",
          "name": "stderr",
          "text": [
            "INFO:train:Train Epoch: 91, train-auc-score: 0.9073\n"
          ]
        },
        {
          "output_type": "stream",
          "name": "stdout",
          "text": [
            "test_auc_score: 0.8379\n"
          ]
        },
        {
          "output_type": "stream",
          "name": "stderr",
          "text": [
            "INFO:train:test_auc_score: 0.8379\n"
          ]
        },
        {
          "output_type": "stream",
          "name": "stdout",
          "text": [
            "starting epoch:  92\n",
            "Train Epoch: 92, train-auc-score: 0.9086\n"
          ]
        },
        {
          "output_type": "stream",
          "name": "stderr",
          "text": [
            "INFO:train:Train Epoch: 92, train-auc-score: 0.9086\n"
          ]
        },
        {
          "output_type": "stream",
          "name": "stdout",
          "text": [
            "test_auc_score: 0.8344\n"
          ]
        },
        {
          "output_type": "stream",
          "name": "stderr",
          "text": [
            "INFO:train:test_auc_score: 0.8344\n"
          ]
        },
        {
          "output_type": "stream",
          "name": "stdout",
          "text": [
            "starting epoch:  93\n",
            "Train Epoch: 93, train-auc-score: 0.9165\n"
          ]
        },
        {
          "output_type": "stream",
          "name": "stderr",
          "text": [
            "INFO:train:Train Epoch: 93, train-auc-score: 0.9165\n"
          ]
        },
        {
          "output_type": "stream",
          "name": "stdout",
          "text": [
            "test_auc_score: 0.8585\n"
          ]
        },
        {
          "output_type": "stream",
          "name": "stderr",
          "text": [
            "INFO:train:test_auc_score: 0.8585\n"
          ]
        },
        {
          "output_type": "stream",
          "name": "stdout",
          "text": [
            "starting epoch:  94\n",
            "Train Epoch: 94, train-auc-score: 0.9108\n"
          ]
        },
        {
          "output_type": "stream",
          "name": "stderr",
          "text": [
            "INFO:train:Train Epoch: 94, train-auc-score: 0.9108\n"
          ]
        },
        {
          "output_type": "stream",
          "name": "stdout",
          "text": [
            "test_auc_score: 0.8419\n"
          ]
        },
        {
          "output_type": "stream",
          "name": "stderr",
          "text": [
            "INFO:train:test_auc_score: 0.8419\n"
          ]
        },
        {
          "output_type": "stream",
          "name": "stdout",
          "text": [
            "starting epoch:  95\n",
            "Train Epoch: 95, train-auc-score: 0.9090\n"
          ]
        },
        {
          "output_type": "stream",
          "name": "stderr",
          "text": [
            "INFO:train:Train Epoch: 95, train-auc-score: 0.9090\n"
          ]
        },
        {
          "output_type": "stream",
          "name": "stdout",
          "text": [
            "test_auc_score: 0.8340\n"
          ]
        },
        {
          "output_type": "stream",
          "name": "stderr",
          "text": [
            "INFO:train:test_auc_score: 0.8340\n"
          ]
        },
        {
          "output_type": "stream",
          "name": "stdout",
          "text": [
            "starting epoch:  96\n",
            "Train Epoch: 96, train-auc-score: 0.9225\n"
          ]
        },
        {
          "output_type": "stream",
          "name": "stderr",
          "text": [
            "INFO:train:Train Epoch: 96, train-auc-score: 0.9225\n"
          ]
        },
        {
          "output_type": "stream",
          "name": "stdout",
          "text": [
            "test_auc_score: 0.8441\n"
          ]
        },
        {
          "output_type": "stream",
          "name": "stderr",
          "text": [
            "INFO:train:test_auc_score: 0.8441\n"
          ]
        },
        {
          "output_type": "stream",
          "name": "stdout",
          "text": [
            "starting epoch:  97\n",
            "Train Epoch: 97, train-auc-score: 0.9090\n"
          ]
        },
        {
          "output_type": "stream",
          "name": "stderr",
          "text": [
            "INFO:train:Train Epoch: 97, train-auc-score: 0.9090\n"
          ]
        },
        {
          "output_type": "stream",
          "name": "stdout",
          "text": [
            "test_auc_score: 0.8390\n"
          ]
        },
        {
          "output_type": "stream",
          "name": "stderr",
          "text": [
            "INFO:train:test_auc_score: 0.8390\n"
          ]
        },
        {
          "output_type": "stream",
          "name": "stdout",
          "text": [
            "starting epoch:  98\n",
            "Train Epoch: 98, train-auc-score: 0.9208\n"
          ]
        },
        {
          "output_type": "stream",
          "name": "stderr",
          "text": [
            "INFO:train:Train Epoch: 98, train-auc-score: 0.9208\n"
          ]
        },
        {
          "output_type": "stream",
          "name": "stdout",
          "text": [
            "test_auc_score: 0.8544\n"
          ]
        },
        {
          "output_type": "stream",
          "name": "stderr",
          "text": [
            "INFO:train:test_auc_score: 0.8544\n"
          ]
        },
        {
          "output_type": "stream",
          "name": "stdout",
          "text": [
            "starting epoch:  99\n",
            "Train Epoch: 99, train-auc-score: 0.9158\n"
          ]
        },
        {
          "output_type": "stream",
          "name": "stderr",
          "text": [
            "INFO:train:Train Epoch: 99, train-auc-score: 0.9158\n"
          ]
        },
        {
          "output_type": "stream",
          "name": "stdout",
          "text": [
            "test_auc_score: 0.8349\n"
          ]
        },
        {
          "output_type": "stream",
          "name": "stderr",
          "text": [
            "INFO:train:test_auc_score: 0.8349\n"
          ]
        },
        {
          "output_type": "stream",
          "name": "stdout",
          "text": [
            "starting epoch:  100\n",
            "Train Epoch: 100, train-auc-score: 0.9144\n"
          ]
        },
        {
          "output_type": "stream",
          "name": "stderr",
          "text": [
            "INFO:train:Train Epoch: 100, train-auc-score: 0.9144\n"
          ]
        },
        {
          "output_type": "stream",
          "name": "stdout",
          "text": [
            "test_auc_score: 0.8394\n"
          ]
        },
        {
          "output_type": "stream",
          "name": "stderr",
          "text": [
            "INFO:train:test_auc_score: 0.8394\n"
          ]
        },
        {
          "output_type": "stream",
          "name": "stdout",
          "text": [
            "saving scores\n",
            "saving model\n"
          ]
        }
      ],
      "source": [
        "train.train(\n",
        "    X=X_train,\n",
        "    y=y_train,\n",
        "    X_test=X_test,\n",
        "    y_test=y_test,\n",
        "    params=params_deepl\n",
        ")"
      ]
    },
    {
      "cell_type": "code",
      "execution_count": 25,
      "metadata": {
        "colab": {
          "base_uri": "https://localhost:8080/",
          "height": 424
        },
        "id": "GhxLR1JN55z3",
        "outputId": "9e12ca59-02a1-4d73-ce62-56257425ee95"
      },
      "outputs": [
        {
          "output_type": "execute_result",
          "data": {
            "text/plain": [
              "    train_scores  test_scores\n",
              "0       0.597819     0.628643\n",
              "1       0.610898     0.631751\n",
              "2       0.621526     0.664220\n",
              "3       0.635334     0.658479\n",
              "4       0.654597     0.682754\n",
              "..           ...          ...\n",
              "95      0.922545     0.844111\n",
              "96      0.908979     0.838978\n",
              "97      0.920760     0.854370\n",
              "98      0.915844     0.834921\n",
              "99      0.914385     0.839439\n",
              "\n",
              "[100 rows x 2 columns]"
            ],
            "text/html": [
              "\n",
              "  <div id=\"df-739de34e-5d34-4b05-86a9-6a1b5ab5b9c6\">\n",
              "    <div class=\"colab-df-container\">\n",
              "      <div>\n",
              "<style scoped>\n",
              "    .dataframe tbody tr th:only-of-type {\n",
              "        vertical-align: middle;\n",
              "    }\n",
              "\n",
              "    .dataframe tbody tr th {\n",
              "        vertical-align: top;\n",
              "    }\n",
              "\n",
              "    .dataframe thead th {\n",
              "        text-align: right;\n",
              "    }\n",
              "</style>\n",
              "<table border=\"1\" class=\"dataframe\">\n",
              "  <thead>\n",
              "    <tr style=\"text-align: right;\">\n",
              "      <th></th>\n",
              "      <th>train_scores</th>\n",
              "      <th>test_scores</th>\n",
              "    </tr>\n",
              "  </thead>\n",
              "  <tbody>\n",
              "    <tr>\n",
              "      <th>0</th>\n",
              "      <td>0.597819</td>\n",
              "      <td>0.628643</td>\n",
              "    </tr>\n",
              "    <tr>\n",
              "      <th>1</th>\n",
              "      <td>0.610898</td>\n",
              "      <td>0.631751</td>\n",
              "    </tr>\n",
              "    <tr>\n",
              "      <th>2</th>\n",
              "      <td>0.621526</td>\n",
              "      <td>0.664220</td>\n",
              "    </tr>\n",
              "    <tr>\n",
              "      <th>3</th>\n",
              "      <td>0.635334</td>\n",
              "      <td>0.658479</td>\n",
              "    </tr>\n",
              "    <tr>\n",
              "      <th>4</th>\n",
              "      <td>0.654597</td>\n",
              "      <td>0.682754</td>\n",
              "    </tr>\n",
              "    <tr>\n",
              "      <th>...</th>\n",
              "      <td>...</td>\n",
              "      <td>...</td>\n",
              "    </tr>\n",
              "    <tr>\n",
              "      <th>95</th>\n",
              "      <td>0.922545</td>\n",
              "      <td>0.844111</td>\n",
              "    </tr>\n",
              "    <tr>\n",
              "      <th>96</th>\n",
              "      <td>0.908979</td>\n",
              "      <td>0.838978</td>\n",
              "    </tr>\n",
              "    <tr>\n",
              "      <th>97</th>\n",
              "      <td>0.920760</td>\n",
              "      <td>0.854370</td>\n",
              "    </tr>\n",
              "    <tr>\n",
              "      <th>98</th>\n",
              "      <td>0.915844</td>\n",
              "      <td>0.834921</td>\n",
              "    </tr>\n",
              "    <tr>\n",
              "      <th>99</th>\n",
              "      <td>0.914385</td>\n",
              "      <td>0.839439</td>\n",
              "    </tr>\n",
              "  </tbody>\n",
              "</table>\n",
              "<p>100 rows × 2 columns</p>\n",
              "</div>\n",
              "      <button class=\"colab-df-convert\" onclick=\"convertToInteractive('df-739de34e-5d34-4b05-86a9-6a1b5ab5b9c6')\"\n",
              "              title=\"Convert this dataframe to an interactive table.\"\n",
              "              style=\"display:none;\">\n",
              "        \n",
              "  <svg xmlns=\"http://www.w3.org/2000/svg\" height=\"24px\"viewBox=\"0 0 24 24\"\n",
              "       width=\"24px\">\n",
              "    <path d=\"M0 0h24v24H0V0z\" fill=\"none\"/>\n",
              "    <path d=\"M18.56 5.44l.94 2.06.94-2.06 2.06-.94-2.06-.94-.94-2.06-.94 2.06-2.06.94zm-11 1L8.5 8.5l.94-2.06 2.06-.94-2.06-.94L8.5 2.5l-.94 2.06-2.06.94zm10 10l.94 2.06.94-2.06 2.06-.94-2.06-.94-.94-2.06-.94 2.06-2.06.94z\"/><path d=\"M17.41 7.96l-1.37-1.37c-.4-.4-.92-.59-1.43-.59-.52 0-1.04.2-1.43.59L10.3 9.45l-7.72 7.72c-.78.78-.78 2.05 0 2.83L4 21.41c.39.39.9.59 1.41.59.51 0 1.02-.2 1.41-.59l7.78-7.78 2.81-2.81c.8-.78.8-2.07 0-2.86zM5.41 20L4 18.59l7.72-7.72 1.47 1.35L5.41 20z\"/>\n",
              "  </svg>\n",
              "      </button>\n",
              "      \n",
              "  <style>\n",
              "    .colab-df-container {\n",
              "      display:flex;\n",
              "      flex-wrap:wrap;\n",
              "      gap: 12px;\n",
              "    }\n",
              "\n",
              "    .colab-df-convert {\n",
              "      background-color: #E8F0FE;\n",
              "      border: none;\n",
              "      border-radius: 50%;\n",
              "      cursor: pointer;\n",
              "      display: none;\n",
              "      fill: #1967D2;\n",
              "      height: 32px;\n",
              "      padding: 0 0 0 0;\n",
              "      width: 32px;\n",
              "    }\n",
              "\n",
              "    .colab-df-convert:hover {\n",
              "      background-color: #E2EBFA;\n",
              "      box-shadow: 0px 1px 2px rgba(60, 64, 67, 0.3), 0px 1px 3px 1px rgba(60, 64, 67, 0.15);\n",
              "      fill: #174EA6;\n",
              "    }\n",
              "\n",
              "    [theme=dark] .colab-df-convert {\n",
              "      background-color: #3B4455;\n",
              "      fill: #D2E3FC;\n",
              "    }\n",
              "\n",
              "    [theme=dark] .colab-df-convert:hover {\n",
              "      background-color: #434B5C;\n",
              "      box-shadow: 0px 1px 3px 1px rgba(0, 0, 0, 0.15);\n",
              "      filter: drop-shadow(0px 1px 2px rgba(0, 0, 0, 0.3));\n",
              "      fill: #FFFFFF;\n",
              "    }\n",
              "  </style>\n",
              "\n",
              "      <script>\n",
              "        const buttonEl =\n",
              "          document.querySelector('#df-739de34e-5d34-4b05-86a9-6a1b5ab5b9c6 button.colab-df-convert');\n",
              "        buttonEl.style.display =\n",
              "          google.colab.kernel.accessAllowed ? 'block' : 'none';\n",
              "\n",
              "        async function convertToInteractive(key) {\n",
              "          const element = document.querySelector('#df-739de34e-5d34-4b05-86a9-6a1b5ab5b9c6');\n",
              "          const dataTable =\n",
              "            await google.colab.kernel.invokeFunction('convertToInteractive',\n",
              "                                                     [key], {});\n",
              "          if (!dataTable) return;\n",
              "\n",
              "          const docLinkHtml = 'Like what you see? Visit the ' +\n",
              "            '<a target=\"_blank\" href=https://colab.research.google.com/notebooks/data_table.ipynb>data table notebook</a>'\n",
              "            + ' to learn more about interactive tables.';\n",
              "          element.innerHTML = '';\n",
              "          dataTable['output_type'] = 'display_data';\n",
              "          await google.colab.output.renderOutput(dataTable, element);\n",
              "          const docLink = document.createElement('div');\n",
              "          docLink.innerHTML = docLinkHtml;\n",
              "          element.appendChild(docLink);\n",
              "        }\n",
              "      </script>\n",
              "    </div>\n",
              "  </div>\n",
              "  "
            ]
          },
          "metadata": {},
          "execution_count": 25
        }
      ],
      "source": [
        "scores_df = pd.read_csv(Path(model_dir, 'training_scores.csv'))\n",
        "scores_df"
      ]
    },
    {
      "cell_type": "code",
      "execution_count": 24,
      "metadata": {
        "id": "bfSk_FYGYzVM",
        "colab": {
          "base_uri": "https://localhost:8080/",
          "height": 295
        },
        "outputId": "49105914-828d-4fb1-93d0-416d0ea12be5"
      },
      "outputs": [
        {
          "output_type": "display_data",
          "data": {
            "text/plain": [
              "<Figure size 432x288 with 1 Axes>"
            ],
            "image/png": "[encoded data removed]"
          },
          "metadata": {
            "needs_background": "light"
          }
        }
      ],
      "source": [
        "plot_train_stats(params_deepl)"
      ]
    },
    {
      "cell_type": "code",
      "source": [],
      "metadata": {
        "id": "BtPItcQ07SvB"
      },
      "execution_count": null,
      "outputs": []
    }
  ],
  "metadata": {
    "colab": {
      "provenance": []
    },
    "kernelspec": {
      "display_name": "Python 3",
      "language": "python",
      "name": "python3"
    },
    "language_info": {
      "codemirror_mode": {
        "name": "ipython",
        "version": 3
      },
      "file_extension": ".py",
      "mimetype": "text/x-python",
      "name": "python",
      "nbconvert_exporter": "python",
      "pygments_lexer": "ipython3",
      "version": "3.7.6"
    }
  },
  "nbformat": 4,
  "nbformat_minor": 0
}